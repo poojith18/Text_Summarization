{
  "nbformat": 4,
  "nbformat_minor": 0,
  "metadata": {
    "colab": {
      "name": "Text Summarization - Cosine similarity.ipynb",
      "provenance": [],
      "include_colab_link": true
    },
    "kernelspec": {
      "name": "python3",
      "display_name": "Python 3"
    }
  },
  "cells": [
    {
      "cell_type": "markdown",
      "metadata": {
        "id": "view-in-github",
        "colab_type": "text"
      },
      "source": [
        "<a href=\"https://colab.research.google.com/github/poojith18/Text_Summarization/blob/main/Text_Summarization_Cosine_similarity.ipynb\" target=\"_parent\"><img src=\"https://colab.research.google.com/assets/colab-badge.svg\" alt=\"Open In Colab\"/></a>"
      ]
    },
    {
      "cell_type": "markdown",
      "metadata": {
        "id": "sPGfCKXebWbH"
      },
      "source": [
        "# Text summarization - Cosine similarity"
      ]
    },
    {
      "cell_type": "markdown",
      "metadata": {
        "id": "q8hjBnVEbbEq"
      },
      "source": [
        "# Preparing the environment"
      ]
    },
    {
      "cell_type": "code",
      "metadata": {
        "id": "m1LwWn7XbPRa"
      },
      "source": [
        "import re\n",
        "import nltk\n",
        "import string\n",
        "import numpy as np\n",
        "import networkx as nx\n",
        "from nltk.cluster.util import cosine_distance"
      ],
      "execution_count": null,
      "outputs": []
    },
    {
      "cell_type": "code",
      "metadata": {
        "colab": {
          "base_uri": "https://localhost:8080/"
        },
        "id": "0U6buOn1eFhD",
        "outputId": "408a20d1-e810-4b4e-9a84-89e25274e3db"
      },
      "source": [
        "nltk.download('punkt')\n",
        "nltk.download('stopwords')"
      ],
      "execution_count": null,
      "outputs": [
        {
          "output_type": "stream",
          "text": [
            "[nltk_data] Downloading package punkt to /root/nltk_data...\n",
            "[nltk_data]   Unzipping tokenizers/punkt.zip.\n",
            "[nltk_data] Downloading package stopwords to /root/nltk_data...\n",
            "[nltk_data]   Unzipping corpora/stopwords.zip.\n"
          ],
          "name": "stdout"
        },
        {
          "output_type": "execute_result",
          "data": {
            "text/plain": [
              "True"
            ]
          },
          "metadata": {
            "tags": []
          },
          "execution_count": 3
        }
      ]
    },
    {
      "cell_type": "code",
      "metadata": {
        "id": "1Syy9rgPemgJ",
        "colab": {
          "base_uri": "https://localhost:8080/"
        },
        "outputId": "58a24915-61c4-44dc-aa0c-f43d9e366555"
      },
      "source": [
        "stopwords = nltk.corpus.stopwords.words('english')\n",
        "print(stopwords)"
      ],
      "execution_count": null,
      "outputs": [
        {
          "output_type": "stream",
          "text": [
            "['i', 'me', 'my', 'myself', 'we', 'our', 'ours', 'ourselves', 'you', \"you're\", \"you've\", \"you'll\", \"you'd\", 'your', 'yours', 'yourself', 'yourselves', 'he', 'him', 'his', 'himself', 'she', \"she's\", 'her', 'hers', 'herself', 'it', \"it's\", 'its', 'itself', 'they', 'them', 'their', 'theirs', 'themselves', 'what', 'which', 'who', 'whom', 'this', 'that', \"that'll\", 'these', 'those', 'am', 'is', 'are', 'was', 'were', 'be', 'been', 'being', 'have', 'has', 'had', 'having', 'do', 'does', 'did', 'doing', 'a', 'an', 'the', 'and', 'but', 'if', 'or', 'because', 'as', 'until', 'while', 'of', 'at', 'by', 'for', 'with', 'about', 'against', 'between', 'into', 'through', 'during', 'before', 'after', 'above', 'below', 'to', 'from', 'up', 'down', 'in', 'out', 'on', 'off', 'over', 'under', 'again', 'further', 'then', 'once', 'here', 'there', 'when', 'where', 'why', 'how', 'all', 'any', 'both', 'each', 'few', 'more', 'most', 'other', 'some', 'such', 'no', 'nor', 'not', 'only', 'own', 'same', 'so', 'than', 'too', 'very', 's', 't', 'can', 'will', 'just', 'don', \"don't\", 'should', \"should've\", 'now', 'd', 'll', 'm', 'o', 're', 've', 'y', 'ain', 'aren', \"aren't\", 'couldn', \"couldn't\", 'didn', \"didn't\", 'doesn', \"doesn't\", 'hadn', \"hadn't\", 'hasn', \"hasn't\", 'haven', \"haven't\", 'isn', \"isn't\", 'ma', 'mightn', \"mightn't\", 'mustn', \"mustn't\", 'needn', \"needn't\", 'shan', \"shan't\", 'shouldn', \"shouldn't\", 'wasn', \"wasn't\", 'weren', \"weren't\", 'won', \"won't\", 'wouldn', \"wouldn't\"]\n"
          ],
          "name": "stdout"
        }
      ]
    },
    {
      "cell_type": "code",
      "metadata": {
        "id": "TNFbY6H1ervC"
      },
      "source": [
        "def preprocess(text):\n",
        "  formatted_text = text.lower()\n",
        "  tokens = []\n",
        "  for token in nltk.word_tokenize(formatted_text):\n",
        "    tokens.append(token)\n",
        "  tokens = [word for word in tokens if word not in stopwords and word not in string.punctuation]\n",
        "  formatted_text = ' '.join(element for element in tokens)\n",
        "\n",
        "  return formatted_text"
      ],
      "execution_count": null,
      "outputs": []
    },
    {
      "cell_type": "code",
      "metadata": {
        "id": "KhkaxziLctKz",
        "colab": {
          "base_uri": "https://localhost:8080/",
          "height": 72
        },
        "outputId": "40244d68-976a-4953-c485-917ec81f0f8f"
      },
      "source": [
        "original_text = \"\"\"Artificial intelligence is human like intelligence. \n",
        "                   It is the study of intelligent artificial agents. \n",
        "                   Science and engineering to produce intelligent machines. \n",
        "                   Solve problems and have intelligence. \n",
        "                   Related to intelligent behavior. \n",
        "                   Developing of reasoning machines. \n",
        "                   Learn from mistakes and successes. \n",
        "                   Artificial intelligence is related to reasoning in everyday situations.\"\"\"\n",
        "original_text = re.sub(r'\\s+', ' ', original_text)\n",
        "original_text"
      ],
      "execution_count": null,
      "outputs": [
        {
          "output_type": "execute_result",
          "data": {
            "application/vnd.google.colaboratory.intrinsic+json": {
              "type": "string"
            },
            "text/plain": [
              "'Artificial intelligence is human like intelligence. It is the study of intelligent artificial agents. Science and engineering to produce intelligent machines. Solve problems and have intelligence. Related to intelligent behavior. Developing of reasoning machines. Learn from mistakes and successes. Artificial intelligence is related to reasoning in everyday situations.'"
            ]
          },
          "metadata": {
            "tags": []
          },
          "execution_count": 6
        }
      ]
    },
    {
      "cell_type": "markdown",
      "metadata": {
        "id": "UfuFBQ06iahM"
      },
      "source": [
        "# Function to calculate similarity between sentences\n",
        "\n",
        "- Link: https://en.wikipedia.org/wiki/Cosine_similarity\n",
        "- Step by step calculations: https://janav.wordpress.com/2013/10/27/tf-idf-and-cosine-similarity/"
      ]
    },
    {
      "cell_type": "code",
      "metadata": {
        "colab": {
          "base_uri": "https://localhost:8080/"
        },
        "id": "-1QO30eRsnTU",
        "outputId": "749deeaf-2b8f-4038-f5f4-ba46d11f844e"
      },
      "source": [
        "original_sentences = [sentence for sentence in nltk.sent_tokenize(original_text)]\n",
        "original_sentences"
      ],
      "execution_count": null,
      "outputs": [
        {
          "output_type": "execute_result",
          "data": {
            "text/plain": [
              "['Artificial intelligence is human like intelligence.',\n",
              " 'It is the study of intelligent artificial agents.',\n",
              " 'Science and engineering to produce intelligent machines.',\n",
              " 'Solve problems and have intelligence.',\n",
              " 'Related to intelligent behavior.',\n",
              " 'Developing of reasoning machines.',\n",
              " 'Learn from mistakes and successes.',\n",
              " 'Artificial intelligence is related to reasoning in everyday situations.']"
            ]
          },
          "metadata": {
            "tags": []
          },
          "execution_count": 7
        }
      ]
    },
    {
      "cell_type": "code",
      "metadata": {
        "colab": {
          "base_uri": "https://localhost:8080/"
        },
        "id": "jPKpYLWTsxjq",
        "outputId": "38e86f1f-00cc-4391-f6bc-96052dcecac7"
      },
      "source": [
        "formatted_sentences = [preprocess(original_sentence) for original_sentence in original_sentences]\n",
        "formatted_sentences"
      ],
      "execution_count": null,
      "outputs": [
        {
          "output_type": "execute_result",
          "data": {
            "text/plain": [
              "['artificial intelligence human like intelligence',\n",
              " 'study intelligent artificial agents',\n",
              " 'science engineering produce intelligent machines',\n",
              " 'solve problems intelligence',\n",
              " 'related intelligent behavior',\n",
              " 'developing reasoning machines',\n",
              " 'learn mistakes successes',\n",
              " 'artificial intelligence related reasoning everyday situations']"
            ]
          },
          "metadata": {
            "tags": []
          },
          "execution_count": 8
        }
      ]
    },
    {
      "cell_type": "code",
      "metadata": {
        "id": "wcNHQJDRtHg1"
      },
      "source": [
        "def calculate_sentence_similarity(sentence1, sentence2):\n",
        "  words1 = [word for word in nltk.word_tokenize(sentence1)]\n",
        "  words2 = [word for word in nltk.word_tokenize(sentence2)]\n",
        "  #print(words1)\n",
        "  #print(words2)\n",
        "\n",
        "  all_words = list(set(words1 + words2))\n",
        "  #print(all_words)\n",
        "\n",
        "  vector1 = [0] * len(all_words)\n",
        "  vector2 = [0] * len(all_words)\n",
        "  #print(vector1)\n",
        "  #print(vector2)\n",
        "\n",
        "  for word in words1: # Bag of words\n",
        "    #print(word)\n",
        "    vector1[all_words.index(word)] += 1\n",
        "  for word in words2:\n",
        "    vector2[all_words.index(word)] += 1\n",
        "  \n",
        "  #print(vector1)\n",
        "  #print(vector2)\n",
        "\n",
        "  return 1 - cosine_distance(vector1, vector2)"
      ],
      "execution_count": null,
      "outputs": []
    },
    {
      "cell_type": "code",
      "metadata": {
        "colab": {
          "base_uri": "https://localhost:8080/"
        },
        "id": "XmSjvmzGtiMF",
        "outputId": "c4b7d6ab-8234-4fe5-869c-6b752e9272ae"
      },
      "source": [
        "calculate_sentence_similarity(formatted_sentences[0], formatted_sentences[1])"
      ],
      "execution_count": null,
      "outputs": [
        {
          "output_type": "execute_result",
          "data": {
            "text/plain": [
              "0.18898223650461365"
            ]
          },
          "metadata": {
            "tags": []
          },
          "execution_count": 49
        }
      ]
    },
    {
      "cell_type": "code",
      "metadata": {
        "colab": {
          "base_uri": "https://localhost:8080/"
        },
        "id": "R0LlylwcxvCg",
        "outputId": "e6fb8341-5fa2-43ba-a4f0-8270b63410b2"
      },
      "source": [
        "test = ['human', 'study', 'intelligence', 'agents', 'intelligent', 'artificial', 'like']\n",
        "test.index('agents')"
      ],
      "execution_count": null,
      "outputs": [
        {
          "output_type": "execute_result",
          "data": {
            "text/plain": [
              "3"
            ]
          },
          "metadata": {
            "tags": []
          },
          "execution_count": 25
        }
      ]
    },
    {
      "cell_type": "markdown",
      "metadata": {
        "id": "vrBir9vnijWB"
      },
      "source": [
        "# Function to create the similarity matrix"
      ]
    },
    {
      "cell_type": "code",
      "metadata": {
        "id": "JQUVylET1106"
      },
      "source": [
        "# The higher the value, the greater the similarity between the sentences\n",
        "# The more words in common, the greater the similarity"
      ],
      "execution_count": null,
      "outputs": []
    },
    {
      "cell_type": "code",
      "metadata": {
        "id": "S4n2rnRs24s2"
      },
      "source": [
        "def calculate_similarity_matrix(sentences):\n",
        "  similarity_matrix = np.zeros((len(sentences), len(sentences)))\n",
        "  #print(similarity_matrix)\n",
        "  for i in range(len(sentences)):\n",
        "    for j in range(len(sentences)):\n",
        "      if i == j:\n",
        "        continue\n",
        "      similarity_matrix[i][j] = calculate_sentence_similarity(sentences[i], sentences[j])\n",
        "  return similarity_matrix"
      ],
      "execution_count": null,
      "outputs": []
    },
    {
      "cell_type": "code",
      "metadata": {
        "colab": {
          "base_uri": "https://localhost:8080/"
        },
        "id": "balp903N3RDh",
        "outputId": "c8fcf74e-b642-4aa4-dd74-118ae088ab2e"
      },
      "source": [
        "calculate_similarity_matrix(formatted_sentences)"
      ],
      "execution_count": null,
      "outputs": [
        {
          "output_type": "execute_result",
          "data": {
            "text/plain": [
              "array([[0.        , 0.18898224, 0.        , 0.43643578, 0.        ,\n",
              "        0.        , 0.        , 0.46291005],\n",
              "       [0.18898224, 0.        , 0.2236068 , 0.        , 0.28867513,\n",
              "        0.        , 0.        , 0.20412415],\n",
              "       [0.        , 0.2236068 , 0.        , 0.        , 0.25819889,\n",
              "        0.25819889, 0.        , 0.        ],\n",
              "       [0.43643578, 0.        , 0.        , 0.        , 0.        ,\n",
              "        0.        , 0.        , 0.23570226],\n",
              "       [0.        , 0.28867513, 0.25819889, 0.        , 0.        ,\n",
              "        0.        , 0.        , 0.23570226],\n",
              "       [0.        , 0.        , 0.25819889, 0.        , 0.        ,\n",
              "        0.        , 0.        , 0.23570226],\n",
              "       [0.        , 0.        , 0.        , 0.        , 0.        ,\n",
              "        0.        , 0.        , 0.        ],\n",
              "       [0.46291005, 0.20412415, 0.        , 0.23570226, 0.23570226,\n",
              "        0.23570226, 0.        , 0.        ]])"
            ]
          },
          "metadata": {
            "tags": []
          },
          "execution_count": 50
        }
      ]
    },
    {
      "cell_type": "markdown",
      "metadata": {
        "id": "whPYH6nUiEHQ"
      },
      "source": [
        "# Function to summarize the texts\n",
        "\n",
        "- Pagerank algorithm: https://en.wikipedia.org/wiki/PageRank\n"
      ]
    },
    {
      "cell_type": "code",
      "metadata": {
        "colab": {
          "base_uri": "https://localhost:8080/"
        },
        "id": "MXiKvAUHJWJ_",
        "outputId": "996b1d63-3215-421a-9f49-70acda613ac2"
      },
      "source": [
        "for i, score in enumerate(original_sentences):\n",
        "  print(i, score)"
      ],
      "execution_count": null,
      "outputs": [
        {
          "output_type": "stream",
          "text": [
            "0 Artificial intelligence is human like intelligence.\n",
            "1 It is the study of intelligent artificial agents.\n",
            "2 Science and engineering to produce intelligent machines.\n",
            "3 Solve problems and have intelligence.\n",
            "4 Related to intelligent behavior.\n",
            "5 Developing of reasoning machines.\n",
            "6 Learn from mistakes and successes.\n",
            "7 Artificial intelligence is related to reasoning in everyday situations.\n"
          ],
          "name": "stdout"
        }
      ]
    },
    {
      "cell_type": "code",
      "metadata": {
        "id": "R96R6V34EPYI"
      },
      "source": [
        "def summarize(text, number_of_sentences, percentage = 0):\n",
        "  original_sentences = [sentence for sentence in nltk.sent_tokenize(text)]\n",
        "  formatted_sentences = [preprocess(original_sentence) for original_sentence in original_sentences]\n",
        "  similarity_matrix = calculate_similarity_matrix(formatted_sentences)\n",
        "  #print(similarity_matrix)\n",
        "\n",
        "  similarity_graph = nx.from_numpy_array(similarity_matrix)\n",
        "  #print(similarity_graph.nodes)\n",
        "  #print(similarity_graph.edges)\n",
        "\n",
        "  scores = nx.pagerank(similarity_graph)\n",
        "  #print(scores)\n",
        "  ordered_scores = sorted(((scores[i], score) for i, score in enumerate(original_sentences)), reverse=True)\n",
        "  #print(ordered_scores)\n",
        "\n",
        "  if percentage > 0:\n",
        "    number_of_sentences = int(len(formatted_sentences) * percentage)\n",
        "\n",
        "  best_sentences = []\n",
        "  for sentence in range(number_of_sentences):\n",
        "    best_sentences.append(ordered_scores[sentence][1])\n",
        "  \n",
        "  return original_sentences, best_sentences, ordered_scores"
      ],
      "execution_count": null,
      "outputs": []
    },
    {
      "cell_type": "code",
      "metadata": {
        "id": "E4vsFNFKEsaI"
      },
      "source": [
        "original_sentences, best_sentences, scores = summarize(original_text, 3)"
      ],
      "execution_count": null,
      "outputs": []
    },
    {
      "cell_type": "code",
      "metadata": {
        "colab": {
          "base_uri": "https://localhost:8080/"
        },
        "id": "YbtaFRBALKzo",
        "outputId": "05d1cf48-d9e1-445a-f20a-47fc4bad7f18"
      },
      "source": [
        "original_sentences"
      ],
      "execution_count": null,
      "outputs": [
        {
          "output_type": "execute_result",
          "data": {
            "text/plain": [
              "['Artificial intelligence is human like intelligence.',\n",
              " 'It is the study of intelligent artificial agents.',\n",
              " 'Science and engineering to produce intelligent machines.',\n",
              " 'Solve problems and have intelligence.',\n",
              " 'Related to intelligent behavior.',\n",
              " 'Developing of reasoning machines.',\n",
              " 'Learn from mistakes and successes.',\n",
              " 'Artificial intelligence is related to reasoning in everyday situations.']"
            ]
          },
          "metadata": {
            "tags": []
          },
          "execution_count": 63
        }
      ]
    },
    {
      "cell_type": "code",
      "metadata": {
        "colab": {
          "base_uri": "https://localhost:8080/"
        },
        "id": "vqfD6CM4LMiX",
        "outputId": "1cdc4b5f-ea74-4d29-ce8f-b51ec419f4de"
      },
      "source": [
        "best_sentences"
      ],
      "execution_count": null,
      "outputs": [
        {
          "output_type": "execute_result",
          "data": {
            "text/plain": [
              "['Artificial intelligence is related to reasoning in everyday situations.',\n",
              " 'Artificial intelligence is human like intelligence.',\n",
              " 'It is the study of intelligent artificial agents.']"
            ]
          },
          "metadata": {
            "tags": []
          },
          "execution_count": 64
        }
      ]
    },
    {
      "cell_type": "code",
      "metadata": {
        "colab": {
          "base_uri": "https://localhost:8080/"
        },
        "id": "rd3n0XquLVUV",
        "outputId": "cf012b87-f5a6-44c3-9035-893e7026bdbe"
      },
      "source": [
        "scores"
      ],
      "execution_count": null,
      "outputs": [
        {
          "output_type": "execute_result",
          "data": {
            "text/plain": [
              "[(0.21117425706958176,\n",
              "  'Artificial intelligence is related to reasoning in everyday situations.'),\n",
              " (0.16732274004260209, 'Artificial intelligence is human like intelligence.'),\n",
              " (0.14555588797159139, 'It is the study of intelligent artificial agents.'),\n",
              " (0.12904008009949403, 'Related to intelligent behavior.'),\n",
              " (0.12753383065335558,\n",
              "  'Science and engineering to produce intelligent machines.'),\n",
              " (0.10880185703391372, 'Solve problems and have intelligence.'),\n",
              " (0.08959232615044063, 'Developing of reasoning machines.'),\n",
              " (0.020979020979020983, 'Learn from mistakes and successes.')]"
            ]
          },
          "metadata": {
            "tags": []
          },
          "execution_count": 65
        }
      ]
    },
    {
      "cell_type": "code",
      "metadata": {
        "id": "zfC7LnyoLoBb"
      },
      "source": [
        "from IPython.core.display import HTML\n",
        "def visualize(title, sentence_list, best_sentences):\n",
        "  text = ''\n",
        "\n",
        "  display(HTML(f'<h1>Summary - {title}</h1>'))\n",
        "  for sentence in sentence_list:\n",
        "    if sentence in best_sentences:\n",
        "      text += ' ' + str(sentence).replace(sentence, f\"<mark>{sentence}</mark>\")\n",
        "    else:\n",
        "      text += ' ' + sentence\n",
        "  display(HTML(f\"\"\" {text} \"\"\"))"
      ],
      "execution_count": null,
      "outputs": []
    },
    {
      "cell_type": "code",
      "metadata": {
        "colab": {
          "base_uri": "https://localhost:8080/",
          "height": 128
        },
        "id": "ptHdk3p8LrPd",
        "outputId": "50f671a8-3f65-4347-9635-48cec0defd77"
      },
      "source": [
        "visualize('Artificial intelligence', original_sentences, best_sentences)"
      ],
      "execution_count": null,
      "outputs": [
        {
          "output_type": "display_data",
          "data": {
            "text/html": [
              "<h1>Summary - Artificial intelligence</h1>"
            ],
            "text/plain": [
              "<IPython.core.display.HTML object>"
            ]
          },
          "metadata": {
            "tags": []
          }
        },
        {
          "output_type": "display_data",
          "data": {
            "text/html": [
              "  <mark>Artificial intelligence is human like intelligence.</mark> <mark>It is the study of intelligent artificial agents.</mark> Science and engineering to produce intelligent machines. Solve problems and have intelligence. Related to intelligent behavior. Developing of reasoning machines. Learn from mistakes and successes. <mark>Artificial intelligence is related to reasoning in everyday situations.</mark> "
            ],
            "text/plain": [
              "<IPython.core.display.HTML object>"
            ]
          },
          "metadata": {
            "tags": []
          }
        }
      ]
    },
    {
      "cell_type": "markdown",
      "metadata": {
        "id": "U6z-C9JozqZu"
      },
      "source": [
        "# Extracting texts from the Internet"
      ]
    },
    {
      "cell_type": "code",
      "metadata": {
        "id": "XsISNj31QTVS"
      },
      "source": [
        "!pip install goose3"
      ],
      "execution_count": null,
      "outputs": []
    },
    {
      "cell_type": "code",
      "metadata": {
        "id": "CinKNJUkQYfl"
      },
      "source": [
        "from goose3 import Goose\n",
        "g = Goose()\n",
        "url = 'https://en.wikipedia.org/wiki/Automatic_summarization'\n",
        "article = g.extract(url)"
      ],
      "execution_count": null,
      "outputs": []
    },
    {
      "cell_type": "code",
      "metadata": {
        "colab": {
          "base_uri": "https://localhost:8080/",
          "height": 161
        },
        "id": "YvdSK8EaQjbD",
        "outputId": "489241e4-d30e-4b36-c285-e9d235498296"
      },
      "source": [
        "article.cleaned_text"
      ],
      "execution_count": null,
      "outputs": [
        {
          "output_type": "execute_result",
          "data": {
            "application/vnd.google.colaboratory.intrinsic+json": {
              "type": "string"
            },
            "text/plain": [
              "'Automatic summarization is the process of shortening a set of data computationally, to create a subset (a summary) that represents the most important or relevant information within the original content.\\n\\nIn addition to text, images and videos can also be summarized. Text summarization finds the most informative sentences in a document;[1] image summarization finds the most representative images within an image collection[citation needed]; video summarization extracts the most important frames from the video content.[2]\\n\\nThere are two general approaches to automatic summarization: extraction and abstraction.\\n\\nHere, content is extracted from the original data, but the extracted content is not modified in any way. Examples of extracted content include key-phrases that can be used to \"tag\" or index a text document, or key sentences (including headings) that collectively comprise an abstract, and representative images or video segments, as stated above. For text, extraction is analogous to the process of skimming, where the summary (if available), headings and subheadings, figures, the first and last paragraphs of a section, and optionally the first and last sentences in a paragraph are read before one chooses to read the entire document in detail.[3] Other examples of extraction that include key sequences of text in terms of clinical relevance (including patient/problem, intervention, and outcome).[4]\\n\\nThis has been applied mainly for text. Abstractive methods build an internal semantic representation of the original content, and then use this representation to create a summary that is closer to what a human might express. Abstraction may transform the extracted content by paraphrasing sections of the source document, to condense a text more strongly than extraction. Such transformation, however, is computationally much more challenging than extraction, involving both natural language processing and often a deep understanding of the domain of the original text in cases where the original document relates to a special field of knowledge. \"Paraphrasing\" is even more difficult to apply to image and video, which is why most summarization systems are extractive.\\n\\nApproaches aimed at higher summarization quality rely on combined software and human effort. In Machine Aided Human Summarization, extractive techniques highlight candidate passages for inclusion (to which the human adds or removes text). In Human Aided Machine Summarization, a human post-processes software output, in the same way that one edits the output of automatic translation by Google Translate.\\n\\nThere are broadly two types of extractive summarization tasks depending on what the summarization program focuses on. The first is generic summarization, which focuses on obtaining a generic summary or abstract of the collection (whether documents, or sets of images, or videos, news stories etc.). The second is query relevant summarization, sometimes called query-based summarization, which summarizes objects specific to a query. Summarization systems are able to create both query relevant text summaries and generic machine-generated summaries depending on what the user needs.\\n\\nAn example of a summarization problem is document summarization, which attempts to automatically produce an abstract from a given document. Sometimes one might be interested in generating a summary from a single source document, while others can use multiple source documents (for example, a cluster of articles on the same topic). This problem is called multi-document summarization. A related application is summarizing news articles. Imagine a system, which automatically pulls together news articles on a given topic (from the web), and concisely represents the latest news as a summary.\\n\\nImage collection summarization is another application example of automatic summarization. It consists in selecting a representative set of images from a larger set of images.[5] A summary in this context is useful to show the most representative images of results in an image collection exploration system. Video summarization is a related domain, where the system automatically creates a trailer of a long video. This also has applications in consumer or personal videos, where one might want to skip the boring or repetitive actions. Similarly, in surveillance videos, one would want to extract important and suspicious activity, while ignoring all the boring and redundant frames captured.\\n\\nAt a very high level, summarization algorithms try to find subsets of objects (like set of sentences, or a set of images), which cover information of the entire set. This is also called the core-set. These algorithms model notions like diversity, coverage, information and representativeness of the summary. Query based summarization techniques, additionally model for relevance of the summary with the query. Some techniques and algorithms which naturally model summarization problems are TextRank and PageRank, Submodular set function, Determinantal point process, maximal marginal relevance (MMR) etc.\\n\\nThe task is the following. You are given a piece of text, such as a journal article, and you must produce a list of keywords or key[phrase]s that capture the primary topics discussed in the text.[6] In the case of research articles, many authors provide manually assigned keywords, but most text lacks pre-existing keyphrases. For example, news articles rarely have keyphrases attached, but it would be useful to be able to automatically do so for a number of applications discussed below. Consider the example text from a news article:\\n\\nA keyphrase extractor might select \"Army Corps of Engineers\", \"President Bush\", \"New Orleans\", and \"defective flood-control pumps\" as keyphrases. These are pulled directly from the text. In contrast, an abstractive keyphrase system would somehow internalize the content and generate keyphrases that do not appear in the text, but more closely resemble what a human might produce, such as \"political negligence\" or \"inadequate protection from floods\". Abstraction requires a deep understanding of the text, which makes it difficult for a computer system. Keyphrases have many applications. They can enable document browsing by providing a short summary, improve information retrieval (if documents have keyphrases assigned, a user could search by keyphrase to produce more reliable hits than a full-text search), and be employed in generating index entries for a large text corpus.\\n\\nDepending on the different literature and the definition of key terms, words or phrases, keyword extraction is a highly related theme.\\n\\nBeginning with the work of Turney,[7] many researchers have approached keyphrase extraction as a supervised machine learning problem. Given a document, we construct an example for each unigram, bigram, and trigram found in the text (though other text units are also possible, as discussed below). We then compute various features describing each example (e.g., does the phrase begin with an upper-case letter?). We assume there are known keyphrases available for a set of training documents. Using the known keyphrases, we can assign positive or negative labels to the examples. Then we learn a classifier that can discriminate between positive and negative examples as a function of the features. Some classifiers make a binary classification for a test example, while others assign a probability of being a keyphrase. For instance, in the above text, we might learn a rule that says phrases with initial capital letters are likely to be keyphrases. After training a learner, we can select keyphrases for test documents in the following manner. We apply the same example-generation strategy to the test documents, then run each example through the learner. We can determine the keyphrases by looking at binary classification decisions or probabilities returned from our learned model. If probabilities are given, a threshold is used to select the keyphrases. Keyphrase extractors are generally evaluated using precision and recall. Precision measures how many of the proposed keyphrases are actually correct. Recall measures how many of the true keyphrases your system proposed. The two measures can be combined in an F-score, which is the harmonic mean of the two (F = 2PR/(P + R) ). Matches between the proposed keyphrases and the known keyphrases can be checked after stemming or applying some other text normalization.\\n\\nDesigning a supervised keyphrase extraction system involves deciding on several choices (some of these apply to unsupervised, too). The first choice is exactly how to generate examples. Turney and others have used all possible unigrams, bigrams, and trigrams without intervening punctuation and after removing stopwords. Hulth showed that you can get some improvement by selecting examples to be sequences of tokens that match certain patterns of part-of-speech tags. Ideally, the mechanism for generating examples produces all the known labeled keyphrases as candidates, though this is often not the case. For example, if we use only unigrams, bigrams, and trigrams, then we will never be able to extract a known keyphrase containing four words. Thus, recall may suffer. However, generating too many examples can also lead to low precision.\\n\\nWe also need to create features that describe the examples and are informative enough to allow a learning algorithm to discriminate keyphrases from non- keyphrases. Typically features involve various term frequencies (how many times a phrase appears in the current text or in a larger corpus), the length of the example, relative position of the first occurrence, various boolean syntactic features (e.g., contains all caps), etc. The Turney paper used about 12 such features. Hulth uses a reduced set of features, which were found most successful in the KEA (Keyphrase Extraction Algorithm) work derived from Turney’s seminal paper.\\n\\nIn the end, the system will need to return a list of keyphrases for a test document, so we need to have a way to limit the number. Ensemble methods (i.e., using votes from several classifiers) have been used to produce numeric scores that can be thresholded to provide a user-provided number of keyphrases. This is the technique used by Turney with C4.5 decision trees. Hulth used a single binary classifier so the learning algorithm implicitly determines the appropriate number.\\n\\nOnce examples and features are created, we need a way to learn to predict keyphrases. Virtually any supervised learning algorithm could be used, such as decision trees, Naive Bayes, and rule induction. In the case of Turney\\'s GenEx algorithm, a genetic algorithm is used to learn parameters for a domain-specific keyphrase extraction algorithm. The extractor follows a series of heuristics to identify keyphrases. The genetic algorithm optimizes parameters for these heuristics with respect to performance on training documents with known key phrases.\\n\\nAnother keyphrase extraction algorithm is TextRank. While supervised methods have some nice properties, like being able to produce interpretable rules for what features characterize a keyphrase, they also require a large amount of training data. Many documents with known keyphrases are needed. Furthermore, training on a specific domain tends to customize the extraction process to that domain, so the resulting classifier is not necessarily portable, as some of Turney\\'s results demonstrate. Unsupervised keyphrase extraction removes the need for training data. It approaches the problem from a different angle. Instead of trying to learn explicit features that characterize keyphrases, the TextRank algorithm[8] exploits the structure of the text itself to determine keyphrases that appear \"central\" to the text in the same way that PageRank selects important Web pages. Recall this is based on the notion of \"prestige\" or \"recommendation\" from social networks. In this way, TextRank does not rely on any previous training data at all, but rather can be run on any arbitrary piece of text, and it can produce output simply based on the text\\'s intrinsic properties. Thus the algorithm is easily portable to new domains and languages.\\n\\nTextRank is a general purpose graph-based ranking algorithm for NLP. Essentially, it runs PageRank on a graph specially designed for a particular NLP task. For keyphrase extraction, it builds a graph using some set of text units as vertices. Edges are based on some measure of semantic or lexical similarity between the text unit vertices. Unlike PageRank, the edges are typically undirected and can be weighted to reflect a degree of similarity. Once the graph is constructed, it is used to form a stochastic matrix, combined with a damping factor (as in the \"random surfer model\"), and the ranking over vertices is obtained by finding the eigenvector corresponding to eigenvalue 1 (i.e., the stationary distribution of the random walk on the graph).\\n\\nThe vertices should correspond to what we want to rank. Potentially, we could do something similar to the supervised methods and create a vertex for each unigram, bigram, trigram, etc. However, to keep the graph small, the authors decide to rank individual unigrams in a first step, and then include a second step that merges highly ranked adjacent unigrams to form multi-word phrases. This has a nice side effect of allowing us to produce keyphrases of arbitrary length. For example, if we rank unigrams and find that \"advanced\", \"natural\", \"language\", and \"processing\" all get high ranks, then we would look at the original text and see that these words appear consecutively and create a final keyphrase using all four together. Note that the unigrams placed in the graph can be filtered by part of speech. The authors found that adjectives and nouns were the best to include. Thus, some linguistic knowledge comes into play in this step.\\n\\nEdges are created based on word co-occurrence in this application of TextRank. Two vertices are connected by an edge if the unigrams appear within a window of size N in the original text. N is typically around 2–10. Thus, \"natural\" and \"language\" might be linked in a text about NLP. \"Natural\" and \"processing\" would also be linked because they would both appear in the same string of N words. These edges build on the notion of \"text cohesion\" and the idea that words that appear near each other are likely related in a meaningful way and \"recommend\" each other to the reader.\\n\\nSince this method simply ranks the individual vertices, we need a way to threshold or produce a limited number of keyphrases. The technique chosen is to set a count T to be a user-specified fraction of the total number of vertices in the graph. Then the top T vertices/unigrams are selected based on their stationary probabilities. A post- processing step is then applied to merge adjacent instances of these T unigrams. As a result, potentially more or less than T final keyphrases will be produced, but the number should be roughly proportional to the length of the original text.\\n\\nIt is not initially clear why applying PageRank to a co-occurrence graph would produce useful keyphrases. One way to think about it is the following. A word that appears multiple times throughout a text may have many different co-occurring neighbors. For example, in a text about machine learning, the unigram \"learning\" might co-occur with \"machine\", \"supervised\", \"un-supervised\", and \"semi-supervised\" in four different sentences. Thus, the \"learning\" vertex would be a central \"hub\" that connects to these other modifying words. Running PageRank/TextRank on the graph is likely to rank \"learning\" highly. Similarly, if the text contains the phrase \"supervised classification\", then there would be an edge between \"supervised\" and \"classification\". If \"classification\" appears several other places and thus has many neighbors, its importance would contribute to the importance of \"supervised\". If it ends up with a high rank, it will be selected as one of the top T unigrams, along with \"learning\" and probably \"classification\". In the final post-processing step, we would then end up with keyphrases \"supervised learning\" and \"supervised classification\".\\n\\nIn short, the co-occurrence graph will contain densely connected regions for terms that appear often and in different contexts. A random walk on this graph will have a stationary distribution that assigns large probabilities to the terms in the centers of the clusters. This is similar to densely connected Web pages getting ranked highly by PageRank. This approach has also been used in document summarization, considered below.\\n\\nLike keyphrase extraction, document summarization aims to identify the essence of a text. The only real difference is that now we are dealing with larger text units—whole sentences instead of words and phrases.\\n\\nBefore getting into the details of some summarization methods, we will mention how summarization systems are typically evaluated. The most common way is using the so-called ROUGE (Recall-Oriented Understudy for Gisting Evaluation) measure. This is a recall-based measure that determines how well a system-generated summary covers the content present in one or more human-generated model summaries known as references. It is recall-based to encourage systems to include all the important topics in the text. Recall can be computed with respect to unigram, bigram, trigram, or 4-gram matching. For example, ROUGE-1 is computed as division of count of unigrams in reference that appear in system and count of unigrams in reference summary.\\n\\nIf there are multiple references, the ROUGE-1 scores are averaged. Because ROUGE is based only on content overlap, it can determine if the same general concepts are discussed between an automatic summary and a reference summary, but it cannot determine if the result is coherent or the sentences flow together in a sensible manner. High-order n-gram ROUGE measures try to judge fluency to some degree. Note that ROUGE is similar to the BLEU measure for machine translation, but BLEU is precision- based, because translation systems favor accuracy.\\n\\nA promising line in document summarization is adaptive document/text summarization.[9] The idea of adaptive summarization involves preliminary recognition of document/text genre and subsequent application of summarization algorithms optimized for this genre. First summarizes that perform adaptive summarization have been created.[10]\\n\\nSupervised text summarization is very much like supervised keyphrase extraction. Basically, if you have a collection of documents and human-generated summaries for them, you can learn features of sentences that make them good candidates for inclusion in the summary. Features might include the position in the document (i.e., the first few sentences are probably important), the number of words in the sentence, etc. The main difficulty in supervised extractive summarization is that the known summaries must be manually created by extracting sentences so the sentences in an original training document can be labeled as \"in summary\" or \"not in summary\". This is not typically how people create summaries, so simply using journal abstracts or existing summaries is usually not sufficient. The sentences in these summaries do not necessarily match up with sentences in the original text, so it would be difficult to assign labels to examples for training. Note, however, that these natural summaries can still be used for evaluation purposes, since ROUGE-1 only cares about unigrams.\\n\\nDuring the DUC 2001 and 2002 evaluation workshops, TNO developed a sentence extraction system for multi-document summarization in the news domain. The system was based on a hybrid system using a naive Bayes classifier and statistical language models for modeling salience. Although the system exhibited good results, the researchers wanted to explore the effectiveness of a maximum entropy (ME) classifier for the meeting summarization task, as ME is known to be robust against feature dependencies. Maximum entropy has also been applied successfully for summarization in the broadcast news domain.\\n\\nThe unsupervised approach to summarization is also quite similar in spirit to unsupervised keyphrase extraction and gets around the issue of costly training data. Some unsupervised summarization approaches are based on finding a \"centroid\" sentence, which is the mean word vector of all the sentences in the document. Then the sentences can be ranked with regard to their similarity to this centroid sentence.\\n\\nA more principled way to estimate sentence importance is using random walks and eigenvector centrality. LexRank[11] is an algorithm essentially identical to TextRank, and both use this approach for document summarization. The two methods were developed by different groups at the same time, and LexRank simply focused on summarization, but could just as easily be used for keyphrase extraction or any other NLP ranking task.\\n\\nIn both LexRank and TextRank, a graph is constructed by creating a vertex for each sentence in the document.\\n\\nThe edges between sentences are based on some form of semantic similarity or content overlap. While LexRank uses cosine similarity of TF-IDF vectors, TextRank uses a very similar measure based on the number of words two sentences have in common (normalized by the sentences\\' lengths). The LexRank paper explored using unweighted edges after applying a threshold to the cosine values, but also experimented with using edges with weights equal to the similarity score. TextRank uses continuous similarity scores as weights.\\n\\nIn both algorithms, the sentences are ranked by applying PageRank to the resulting graph. A summary is formed by combining the top ranking sentences, using a threshold or length cutoff to limit the size of the summary.\\n\\nIt is worth noting that TextRank was applied to summarization exactly as described here, while LexRank was used as part of a larger summarization system (MEAD) that combines the LexRank score (stationary probability) with other features like sentence position and length using a linear combination with either user-specified or automatically tuned weights. In this case, some training documents might be needed, though the TextRank results show the additional features are not absolutely necessary.\\n\\nAnother important distinction is that TextRank was used for single document summarization, while LexRank has been applied to multi-document summarization. The task remains the same in both cases—only the number of sentences to choose from has grown. However, when summarizing multiple documents, there is a greater risk of selecting duplicate or highly redundant sentences to place in the same summary. Imagine you have a cluster of news articles on a particular event, and you want to produce one summary. Each article is likely to have many similar sentences, and you would only want to include distinct ideas in the summary. To address this issue, LexRank applies a heuristic post-processing step that builds up a summary by adding sentences in rank order, but discards any sentences that are too similar to ones already placed in the summary. The method used is called Cross-Sentence Information Subsumption (CSIS).\\n\\nThese methods work based on the idea that sentences \"recommend\" other similar sentences to the reader. Thus, if one sentence is very similar to many others, it will likely be a sentence of great importance. The importance of this sentence also stems from the importance of the sentences \"recommending\" it. Thus, to get ranked highly and placed in a summary, a sentence must be similar to many sentences that are in turn also similar to many other sentences. This makes intuitive sense and allows the algorithms to be applied to any arbitrary new text. The methods are domain-independent and easily portable. One could imagine the features indicating important sentences in the news domain might vary considerably from the biomedical domain. However, the unsupervised \"recommendation\"-based approach applies to any domain.\\n\\nMulti-document summarization is an automatic procedure aimed at extraction of information from multiple texts written about the same topic. Resulting summary report allows individual users, such as professional information consumers, to quickly familiarize themselves with information contained in a large cluster of documents. In such a way, multi-document summarization systems are complementing the news aggregators performing the next step down the road of coping with information overload. Multi-document summarization may also be done in response to a question.[12] [4]\\n\\nMulti-document summarization creates information reports that are both concise and comprehensive. With different opinions being put together and outlined, every topic is described from multiple perspectives within a single document. While the goal of a brief summary is to simplify information search and cut the time by pointing to the most relevant source documents, comprehensive multi-document summary should itself contain the required information, hence limiting the need for accessing original files to cases when refinement is required. Automatic summaries present information extracted from multiple sources algorithmically, without any editorial touch or subjective human intervention, thus making it completely unbiased.[dubious – discuss]\\n\\nMulti-document extractive summarization faces a problem of potential redundancy. Ideally, we would like to extract sentences that are both \"central\" (i.e., contain the main ideas) and \"diverse\" (i.e., they differ from one another). LexRank deals with diversity as a heuristic final stage using CSIS, and other systems have used similar methods, such as Maximal Marginal Relevance (MMR),[13] in trying to eliminate redundancy in information retrieval results. There is a general purpose graph-based ranking algorithm like Page/Lex/TextRank that handles both \"centrality\" and \"diversity\" in a unified mathematical framework based on absorbing Markov chain random walks. (An absorbing random walk is like a standard random walk, except some states are now absorbing states that act as \"black holes\" that cause the walk to end abruptly at that state.) The algorithm is called GRASSHOPPER.[14] In addition to explicitly promoting diversity during the ranking process, GRASSHOPPER incorporates a prior ranking (based on sentence position in the case of summarization).\\n\\nThe state of the art results for multi-document summarization, however, are obtained using mixtures of submodular functions. These methods have achieved the state of the art results for Document Summarization Corpora, DUC 04 - 07.[15] Similar results were also achieved with the use of determinantal point processes (which are a special case of submodular functions) for DUC-04.[16]\\n\\nA new method for multi-lingual multi-document summarization that avoids redundancy works by simplifying and generating ideograms that represent the meaning of each sentence in each document and then evaluates similarity \"qualitatively\" by comparing the shape and position of said ideograms has recently been developed. This tool does not use word frequency, does not need training or preprocessing of any kind and works by generating ideograms that represent the meaning of each sentence and then summarizes using two user-supplied parameters: equivalence (when are two sentences to be considered equivalent) and relevance (how long is the desired summary).\\n\\nThe idea of a submodular set function has recently emerged as a powerful modeling tool for various summarization problems. Submodular functions naturally model notions of coverage, information, representation and diversity. Moreover, several important combinatorial optimization problems occur as special instances of submodular optimization. For example, the set cover problem is a special case of submodular optimization, since the set cover function is submodular. The set cover function attempts to find a subset of objects which cover a given set of concepts. For example, in document summarization, one would like the summary to cover all important and relevant concepts in the document. This is an instance of set cover. Similarly, the facility location problem is a special case of submodular functions. The Facility Location function also naturally models coverage and diversity. Another example of a submodular optimization problem is using a determinantal point process to model diversity. Similarly, the Maximum-Marginal-Relevance procedure can also be seen as an instance of submodular optimization. All these important models encouraging coverage, diversity and information are all submodular. Moreover, submodular functions can be efficiently combined together, and the resulting function is still submodular. Hence, one could combine one submodular function which models diversity, another one which models coverage and use human supervision to learn a right model of a submodular function for the problem.\\n\\nWhile submodular functions are fitting problems for summarization, they also admit very efficient algorithms for optimization. For example, a simple greedy algorithm admits a constant factor guarantee.[17] Moreover, the greedy algorithm is extremely simple to implement and can scale to large datasets, which is very important for summarization problems.\\n\\nSubmodular functions have achieved state-of-the-art for almost all summarization problems. For example, work by Lin and Bilmes, 2012[18] shows that submodular functions achieve the best results to date on DUC-04, DUC-05, DUC-06 and DUC-07 systems for document summarization. Similarly, work by Lin and Bilmes, 2011,[19] shows that many existing systems for automatic summarization are instances of submodular functions. This was a breakthrough result establishing submodular functions as the right models for summarization problems.[citation needed]\\n\\nSubmodular Functions have also been used for other summarization tasks. Tschiatschek et al., 2014 show[20] that mixtures of submodular functions achieve state-of-the-art results for image collection summarization. Similarly, Bairi et al., 2015[21] show the utility of submodular functions for summarizing multi-document topic hierarchies. Submodular Functions have also successfully been used for summarizing machine learning datasets.[22]\\n• The Reddit bot \"autotldr\",[23] created in 2011 summarizes news articles in the comment-section of reddit posts. It was found to be very useful by the reddit community which upvoted its summaries hundreds of thousands of times.[24] The name is reference to TL;DR − Internet slang for \"too long; didn\\'t read\".[25][26]\\n\\nThe most common way to evaluate the informativeness of automatic summaries is to compare them with human-made model summaries.\\n\\nEvaluation techniques fall into intrinsic and extrinsic,[27] inter-textual and intra-textual.[28]\\n\\nAn intrinsic evaluation tests the summarization system in and of itself while an extrinsic evaluation tests the summarization based on how it affects the completion of some other task. Intrinsic evaluations have assessed mainly the coherence and informativeness of summaries. Extrinsic evaluations, on the other hand, have tested the impact of summarization on tasks like relevance assessment, reading comprehension, etc.\\n\\nIntra-textual methods assess the output of a specific summarization system, and the inter-textual ones focus on contrastive analysis of outputs of several summarization systems.\\n\\nHuman judgement often has wide variance on what is considered a \"good\" summary, which means that making the evaluation process automatic is particularly difficult. Manual evaluation can be used, but this is both time and labor-intensive as it requires humans to read not only the summaries but also the source documents. Other issues are those concerning coherence and coverage.\\n\\nOne of the metrics used in NIST\\'s annual Document Understanding Conferences, in which research groups submit their systems for both summarization and translation tasks, is the ROUGE metric (Recall-Oriented Understudy for Gisting Evaluation [2]). It essentially calculates n-gram overlaps between automatically generated summaries and previously-written human summaries. A high level of overlap should indicate a high level of shared concepts between the two summaries. Note that overlap metrics like this are unable to provide any feedback on a summary\\'s coherence. Anaphor resolution remains another problem yet to be fully solved. Similarly, for image summarization, Tschiatschek et al., developed a Visual-ROUGE score which judges the performance of algorithms for image summarization.[29]\\n\\nDomain independent summarization techniques generally apply sets of general features which can be used to identify information-rich text segments. Recent research focus has drifted to domain-specific summarization techniques that utilize the available knowledge specific to the domain of text. For example, automatic summarization research on medical text generally attempts to utilize the various sources of codified medical knowledge and ontologies.[30]\\n\\nThe main drawback of the evaluation systems existing so far is that we need at least one reference summary, and for some methods more than one, to be able to compare automatic summaries with models. This is a hard and expensive task. Much effort has to be done in order to have corpus of texts and their corresponding summaries. Furthermore, for some methods, not only do we need to have human-made summaries available for comparison, but also manual annotation has to be performed in some of them (e.g. SCU in the Pyramid Method). In any case, what the evaluation methods need as an input, is a set of summaries to serve as gold standards and a set of automatic summaries. Moreover, they all perform a quantitative evaluation with regard to different similarity metrics.\\n\\nThe first publication in the area dates back to 1958 (Lun), starting with a statistical technique. Research increased significantly in 2015. Term frequency–inverse document frequency had been used by 2016. Pattern-based summarization was the most powerful option for multi-document summarization found by 2016. In the following year it was surpassed by latent semantic analysis (LSA) combined with non-negative matrix factorization (NMF). Although they did not replace other approaches and are often combined with them, by 2019 machine learning methods dominated the extractive summarization of single documents, which was considered to be nearing maturity. By 2020 the field was still very active and research is shifting towards abstractive summation and real-time summarization.[31]\\n• None Roxana, Angheluta (2002). The Use of Topic Segmentation for Automatic Summarization.\\n• None Elena, Lloret and Manuel, Palomar (2009). Challenging Issues of Automatic Summarization: Relevance Detection and Quality-based Evaluation.\\n• None Alrehamy, Hassan (2017). \"SemCluster: Unsupervised Automatic Keyphrase Extraction Using Affinity Propagation\". Automatic Keyphrases Extraction. Advances in Intelligent Systems and Computing. 650. pp. 222–235. doi:10.1007/978-3-319-66939-7_19. ISBN .\\n• None Marcu, Daniel (2000). The Theory and Practice of Discourse Parsing and Summarization. ISBN .\\n• , Published in Proceeding RIAO\\'10 Adaptivity, Personalization and Fusion of Heterogeneous Information, CID Paris, France\\n• None Xiaojin, Zhu, Andrew Goldberg, Jurgen Van Gael, and David Andrzejewski (2007). Improving diversity in ranking using absorbing random walks . , The GRASSHOPPER algorithm\\n• None Miranda-Jiménez, Sabino, Gelbukh, Alexander, and Sidorov, Grigori (2013). \"Summarizing Conceptual Graphs for Automatic Summarization Task\". Conceptual Structures for STEM Research and Education. Lecture Notes in Computer Science. 7735. pp. 245–253. doi:10.1007/978-3-642-35786-2_18. ISBN . , Conceptual Structures for STEM Research and Education.'"
            ]
          },
          "metadata": {
            "tags": []
          },
          "execution_count": 72
        }
      ]
    },
    {
      "cell_type": "code",
      "metadata": {
        "id": "6Pl3pLBVQoYf"
      },
      "source": [
        "original_sentences, best_sentences, scores = summarize(article.cleaned_text, 120, 0.2)"
      ],
      "execution_count": null,
      "outputs": []
    },
    {
      "cell_type": "code",
      "metadata": {
        "colab": {
          "base_uri": "https://localhost:8080/"
        },
        "id": "kVJw4LNfQ9cx",
        "outputId": "d5161847-1aaf-4a36-fab5-33706840379b"
      },
      "source": [
        "(120 / len(original_sentences)) * 100"
      ],
      "execution_count": null,
      "outputs": [
        {
          "output_type": "execute_result",
          "data": {
            "text/plain": [
              "40.54054054054054"
            ]
          },
          "metadata": {
            "tags": []
          },
          "execution_count": 74
        }
      ]
    },
    {
      "cell_type": "code",
      "metadata": {
        "colab": {
          "base_uri": "https://localhost:8080/"
        },
        "id": "QCC2n0Q8RDbe",
        "outputId": "f21479c2-4a8d-4db4-dcbe-92c31032b82f"
      },
      "source": [
        "original_sentences"
      ],
      "execution_count": null,
      "outputs": [
        {
          "output_type": "execute_result",
          "data": {
            "text/plain": [
              "['Automatic summarization is the process of shortening a set of data computationally, to create a subset (a summary) that represents the most important or relevant information within the original content.',\n",
              " 'In addition to text, images and videos can also be summarized.',\n",
              " 'Text summarization finds the most informative sentences in a document;[1] image summarization finds the most representative images within an image collection[citation needed]; video summarization extracts the most important frames from the video content.',\n",
              " '[2]\\n\\nThere are two general approaches to automatic summarization: extraction and abstraction.',\n",
              " 'Here, content is extracted from the original data, but the extracted content is not modified in any way.',\n",
              " 'Examples of extracted content include key-phrases that can be used to \"tag\" or index a text document, or key sentences (including headings) that collectively comprise an abstract, and representative images or video segments, as stated above.',\n",
              " 'For text, extraction is analogous to the process of skimming, where the summary (if available), headings and subheadings, figures, the first and last paragraphs of a section, and optionally the first and last sentences in a paragraph are read before one chooses to read the entire document in detail.',\n",
              " '[3] Other examples of extraction that include key sequences of text in terms of clinical relevance (including patient/problem, intervention, and outcome).',\n",
              " '[4]\\n\\nThis has been applied mainly for text.',\n",
              " 'Abstractive methods build an internal semantic representation of the original content, and then use this representation to create a summary that is closer to what a human might express.',\n",
              " 'Abstraction may transform the extracted content by paraphrasing sections of the source document, to condense a text more strongly than extraction.',\n",
              " 'Such transformation, however, is computationally much more challenging than extraction, involving both natural language processing and often a deep understanding of the domain of the original text in cases where the original document relates to a special field of knowledge.',\n",
              " '\"Paraphrasing\" is even more difficult to apply to image and video, which is why most summarization systems are extractive.',\n",
              " 'Approaches aimed at higher summarization quality rely on combined software and human effort.',\n",
              " 'In Machine Aided Human Summarization, extractive techniques highlight candidate passages for inclusion (to which the human adds or removes text).',\n",
              " 'In Human Aided Machine Summarization, a human post-processes software output, in the same way that one edits the output of automatic translation by Google Translate.',\n",
              " 'There are broadly two types of extractive summarization tasks depending on what the summarization program focuses on.',\n",
              " 'The first is generic summarization, which focuses on obtaining a generic summary or abstract of the collection (whether documents, or sets of images, or videos, news stories etc.).',\n",
              " 'The second is query relevant summarization, sometimes called query-based summarization, which summarizes objects specific to a query.',\n",
              " 'Summarization systems are able to create both query relevant text summaries and generic machine-generated summaries depending on what the user needs.',\n",
              " 'An example of a summarization problem is document summarization, which attempts to automatically produce an abstract from a given document.',\n",
              " 'Sometimes one might be interested in generating a summary from a single source document, while others can use multiple source documents (for example, a cluster of articles on the same topic).',\n",
              " 'This problem is called multi-document summarization.',\n",
              " 'A related application is summarizing news articles.',\n",
              " 'Imagine a system, which automatically pulls together news articles on a given topic (from the web), and concisely represents the latest news as a summary.',\n",
              " 'Image collection summarization is another application example of automatic summarization.',\n",
              " 'It consists in selecting a representative set of images from a larger set of images.',\n",
              " '[5] A summary in this context is useful to show the most representative images of results in an image collection exploration system.',\n",
              " 'Video summarization is a related domain, where the system automatically creates a trailer of a long video.',\n",
              " 'This also has applications in consumer or personal videos, where one might want to skip the boring or repetitive actions.',\n",
              " 'Similarly, in surveillance videos, one would want to extract important and suspicious activity, while ignoring all the boring and redundant frames captured.',\n",
              " 'At a very high level, summarization algorithms try to find subsets of objects (like set of sentences, or a set of images), which cover information of the entire set.',\n",
              " 'This is also called the core-set.',\n",
              " 'These algorithms model notions like diversity, coverage, information and representativeness of the summary.',\n",
              " 'Query based summarization techniques, additionally model for relevance of the summary with the query.',\n",
              " 'Some techniques and algorithms which naturally model summarization problems are TextRank and PageRank, Submodular set function, Determinantal point process, maximal marginal relevance (MMR) etc.',\n",
              " 'The task is the following.',\n",
              " 'You are given a piece of text, such as a journal article, and you must produce a list of keywords or key[phrase]s that capture the primary topics discussed in the text.',\n",
              " '[6] In the case of research articles, many authors provide manually assigned keywords, but most text lacks pre-existing keyphrases.',\n",
              " 'For example, news articles rarely have keyphrases attached, but it would be useful to be able to automatically do so for a number of applications discussed below.',\n",
              " 'Consider the example text from a news article:\\n\\nA keyphrase extractor might select \"Army Corps of Engineers\", \"President Bush\", \"New Orleans\", and \"defective flood-control pumps\" as keyphrases.',\n",
              " 'These are pulled directly from the text.',\n",
              " 'In contrast, an abstractive keyphrase system would somehow internalize the content and generate keyphrases that do not appear in the text, but more closely resemble what a human might produce, such as \"political negligence\" or \"inadequate protection from floods\".',\n",
              " 'Abstraction requires a deep understanding of the text, which makes it difficult for a computer system.',\n",
              " 'Keyphrases have many applications.',\n",
              " 'They can enable document browsing by providing a short summary, improve information retrieval (if documents have keyphrases assigned, a user could search by keyphrase to produce more reliable hits than a full-text search), and be employed in generating index entries for a large text corpus.',\n",
              " 'Depending on the different literature and the definition of key terms, words or phrases, keyword extraction is a highly related theme.',\n",
              " 'Beginning with the work of Turney,[7] many researchers have approached keyphrase extraction as a supervised machine learning problem.',\n",
              " 'Given a document, we construct an example for each unigram, bigram, and trigram found in the text (though other text units are also possible, as discussed below).',\n",
              " 'We then compute various features describing each example (e.g., does the phrase begin with an upper-case letter?).',\n",
              " 'We assume there are known keyphrases available for a set of training documents.',\n",
              " 'Using the known keyphrases, we can assign positive or negative labels to the examples.',\n",
              " 'Then we learn a classifier that can discriminate between positive and negative examples as a function of the features.',\n",
              " 'Some classifiers make a binary classification for a test example, while others assign a probability of being a keyphrase.',\n",
              " 'For instance, in the above text, we might learn a rule that says phrases with initial capital letters are likely to be keyphrases.',\n",
              " 'After training a learner, we can select keyphrases for test documents in the following manner.',\n",
              " 'We apply the same example-generation strategy to the test documents, then run each example through the learner.',\n",
              " 'We can determine the keyphrases by looking at binary classification decisions or probabilities returned from our learned model.',\n",
              " 'If probabilities are given, a threshold is used to select the keyphrases.',\n",
              " 'Keyphrase extractors are generally evaluated using precision and recall.',\n",
              " 'Precision measures how many of the proposed keyphrases are actually correct.',\n",
              " 'Recall measures how many of the true keyphrases your system proposed.',\n",
              " 'The two measures can be combined in an F-score, which is the harmonic mean of the two (F = 2PR/(P + R) ).',\n",
              " 'Matches between the proposed keyphrases and the known keyphrases can be checked after stemming or applying some other text normalization.',\n",
              " 'Designing a supervised keyphrase extraction system involves deciding on several choices (some of these apply to unsupervised, too).',\n",
              " 'The first choice is exactly how to generate examples.',\n",
              " 'Turney and others have used all possible unigrams, bigrams, and trigrams without intervening punctuation and after removing stopwords.',\n",
              " 'Hulth showed that you can get some improvement by selecting examples to be sequences of tokens that match certain patterns of part-of-speech tags.',\n",
              " 'Ideally, the mechanism for generating examples produces all the known labeled keyphrases as candidates, though this is often not the case.',\n",
              " 'For example, if we use only unigrams, bigrams, and trigrams, then we will never be able to extract a known keyphrase containing four words.',\n",
              " 'Thus, recall may suffer.',\n",
              " 'However, generating too many examples can also lead to low precision.',\n",
              " 'We also need to create features that describe the examples and are informative enough to allow a learning algorithm to discriminate keyphrases from non- keyphrases.',\n",
              " 'Typically features involve various term frequencies (how many times a phrase appears in the current text or in a larger corpus), the length of the example, relative position of the first occurrence, various boolean syntactic features (e.g., contains all caps), etc.',\n",
              " 'The Turney paper used about 12 such features.',\n",
              " 'Hulth uses a reduced set of features, which were found most successful in the KEA (Keyphrase Extraction Algorithm) work derived from Turney’s seminal paper.',\n",
              " 'In the end, the system will need to return a list of keyphrases for a test document, so we need to have a way to limit the number.',\n",
              " 'Ensemble methods (i.e., using votes from several classifiers) have been used to produce numeric scores that can be thresholded to provide a user-provided number of keyphrases.',\n",
              " 'This is the technique used by Turney with C4.5 decision trees.',\n",
              " 'Hulth used a single binary classifier so the learning algorithm implicitly determines the appropriate number.',\n",
              " 'Once examples and features are created, we need a way to learn to predict keyphrases.',\n",
              " 'Virtually any supervised learning algorithm could be used, such as decision trees, Naive Bayes, and rule induction.',\n",
              " \"In the case of Turney's GenEx algorithm, a genetic algorithm is used to learn parameters for a domain-specific keyphrase extraction algorithm.\",\n",
              " 'The extractor follows a series of heuristics to identify keyphrases.',\n",
              " 'The genetic algorithm optimizes parameters for these heuristics with respect to performance on training documents with known key phrases.',\n",
              " 'Another keyphrase extraction algorithm is TextRank.',\n",
              " 'While supervised methods have some nice properties, like being able to produce interpretable rules for what features characterize a keyphrase, they also require a large amount of training data.',\n",
              " 'Many documents with known keyphrases are needed.',\n",
              " \"Furthermore, training on a specific domain tends to customize the extraction process to that domain, so the resulting classifier is not necessarily portable, as some of Turney's results demonstrate.\",\n",
              " 'Unsupervised keyphrase extraction removes the need for training data.',\n",
              " 'It approaches the problem from a different angle.',\n",
              " 'Instead of trying to learn explicit features that characterize keyphrases, the TextRank algorithm[8] exploits the structure of the text itself to determine keyphrases that appear \"central\" to the text in the same way that PageRank selects important Web pages.',\n",
              " 'Recall this is based on the notion of \"prestige\" or \"recommendation\" from social networks.',\n",
              " \"In this way, TextRank does not rely on any previous training data at all, but rather can be run on any arbitrary piece of text, and it can produce output simply based on the text's intrinsic properties.\",\n",
              " 'Thus the algorithm is easily portable to new domains and languages.',\n",
              " 'TextRank is a general purpose graph-based ranking algorithm for NLP.',\n",
              " 'Essentially, it runs PageRank on a graph specially designed for a particular NLP task.',\n",
              " 'For keyphrase extraction, it builds a graph using some set of text units as vertices.',\n",
              " 'Edges are based on some measure of semantic or lexical similarity between the text unit vertices.',\n",
              " 'Unlike PageRank, the edges are typically undirected and can be weighted to reflect a degree of similarity.',\n",
              " 'Once the graph is constructed, it is used to form a stochastic matrix, combined with a damping factor (as in the \"random surfer model\"), and the ranking over vertices is obtained by finding the eigenvector corresponding to eigenvalue 1 (i.e., the stationary distribution of the random walk on the graph).',\n",
              " 'The vertices should correspond to what we want to rank.',\n",
              " 'Potentially, we could do something similar to the supervised methods and create a vertex for each unigram, bigram, trigram, etc.',\n",
              " 'However, to keep the graph small, the authors decide to rank individual unigrams in a first step, and then include a second step that merges highly ranked adjacent unigrams to form multi-word phrases.',\n",
              " 'This has a nice side effect of allowing us to produce keyphrases of arbitrary length.',\n",
              " 'For example, if we rank unigrams and find that \"advanced\", \"natural\", \"language\", and \"processing\" all get high ranks, then we would look at the original text and see that these words appear consecutively and create a final keyphrase using all four together.',\n",
              " 'Note that the unigrams placed in the graph can be filtered by part of speech.',\n",
              " 'The authors found that adjectives and nouns were the best to include.',\n",
              " 'Thus, some linguistic knowledge comes into play in this step.',\n",
              " 'Edges are created based on word co-occurrence in this application of TextRank.',\n",
              " 'Two vertices are connected by an edge if the unigrams appear within a window of size N in the original text.',\n",
              " 'N is typically around 2–10.',\n",
              " 'Thus, \"natural\" and \"language\" might be linked in a text about NLP.',\n",
              " '\"Natural\" and \"processing\" would also be linked because they would both appear in the same string of N words.',\n",
              " 'These edges build on the notion of \"text cohesion\" and the idea that words that appear near each other are likely related in a meaningful way and \"recommend\" each other to the reader.',\n",
              " 'Since this method simply ranks the individual vertices, we need a way to threshold or produce a limited number of keyphrases.',\n",
              " 'The technique chosen is to set a count T to be a user-specified fraction of the total number of vertices in the graph.',\n",
              " 'Then the top T vertices/unigrams are selected based on their stationary probabilities.',\n",
              " 'A post- processing step is then applied to merge adjacent instances of these T unigrams.',\n",
              " 'As a result, potentially more or less than T final keyphrases will be produced, but the number should be roughly proportional to the length of the original text.',\n",
              " 'It is not initially clear why applying PageRank to a co-occurrence graph would produce useful keyphrases.',\n",
              " 'One way to think about it is the following.',\n",
              " 'A word that appears multiple times throughout a text may have many different co-occurring neighbors.',\n",
              " 'For example, in a text about machine learning, the unigram \"learning\" might co-occur with \"machine\", \"supervised\", \"un-supervised\", and \"semi-supervised\" in four different sentences.',\n",
              " 'Thus, the \"learning\" vertex would be a central \"hub\" that connects to these other modifying words.',\n",
              " 'Running PageRank/TextRank on the graph is likely to rank \"learning\" highly.',\n",
              " 'Similarly, if the text contains the phrase \"supervised classification\", then there would be an edge between \"supervised\" and \"classification\".',\n",
              " 'If \"classification\" appears several other places and thus has many neighbors, its importance would contribute to the importance of \"supervised\".',\n",
              " 'If it ends up with a high rank, it will be selected as one of the top T unigrams, along with \"learning\" and probably \"classification\".',\n",
              " 'In the final post-processing step, we would then end up with keyphrases \"supervised learning\" and \"supervised classification\".',\n",
              " 'In short, the co-occurrence graph will contain densely connected regions for terms that appear often and in different contexts.',\n",
              " 'A random walk on this graph will have a stationary distribution that assigns large probabilities to the terms in the centers of the clusters.',\n",
              " 'This is similar to densely connected Web pages getting ranked highly by PageRank.',\n",
              " 'This approach has also been used in document summarization, considered below.',\n",
              " 'Like keyphrase extraction, document summarization aims to identify the essence of a text.',\n",
              " 'The only real difference is that now we are dealing with larger text units—whole sentences instead of words and phrases.',\n",
              " 'Before getting into the details of some summarization methods, we will mention how summarization systems are typically evaluated.',\n",
              " 'The most common way is using the so-called ROUGE (Recall-Oriented Understudy for Gisting Evaluation) measure.',\n",
              " 'This is a recall-based measure that determines how well a system-generated summary covers the content present in one or more human-generated model summaries known as references.',\n",
              " 'It is recall-based to encourage systems to include all the important topics in the text.',\n",
              " 'Recall can be computed with respect to unigram, bigram, trigram, or 4-gram matching.',\n",
              " 'For example, ROUGE-1 is computed as division of count of unigrams in reference that appear in system and count of unigrams in reference summary.',\n",
              " 'If there are multiple references, the ROUGE-1 scores are averaged.',\n",
              " 'Because ROUGE is based only on content overlap, it can determine if the same general concepts are discussed between an automatic summary and a reference summary, but it cannot determine if the result is coherent or the sentences flow together in a sensible manner.',\n",
              " 'High-order n-gram ROUGE measures try to judge fluency to some degree.',\n",
              " 'Note that ROUGE is similar to the BLEU measure for machine translation, but BLEU is precision- based, because translation systems favor accuracy.',\n",
              " 'A promising line in document summarization is adaptive document/text summarization.',\n",
              " '[9] The idea of adaptive summarization involves preliminary recognition of document/text genre and subsequent application of summarization algorithms optimized for this genre.',\n",
              " 'First summarizes that perform adaptive summarization have been created.',\n",
              " '[10]\\n\\nSupervised text summarization is very much like supervised keyphrase extraction.',\n",
              " 'Basically, if you have a collection of documents and human-generated summaries for them, you can learn features of sentences that make them good candidates for inclusion in the summary.',\n",
              " 'Features might include the position in the document (i.e., the first few sentences are probably important), the number of words in the sentence, etc.',\n",
              " 'The main difficulty in supervised extractive summarization is that the known summaries must be manually created by extracting sentences so the sentences in an original training document can be labeled as \"in summary\" or \"not in summary\".',\n",
              " 'This is not typically how people create summaries, so simply using journal abstracts or existing summaries is usually not sufficient.',\n",
              " 'The sentences in these summaries do not necessarily match up with sentences in the original text, so it would be difficult to assign labels to examples for training.',\n",
              " 'Note, however, that these natural summaries can still be used for evaluation purposes, since ROUGE-1 only cares about unigrams.',\n",
              " 'During the DUC 2001 and 2002 evaluation workshops, TNO developed a sentence extraction system for multi-document summarization in the news domain.',\n",
              " 'The system was based on a hybrid system using a naive Bayes classifier and statistical language models for modeling salience.',\n",
              " 'Although the system exhibited good results, the researchers wanted to explore the effectiveness of a maximum entropy (ME) classifier for the meeting summarization task, as ME is known to be robust against feature dependencies.',\n",
              " 'Maximum entropy has also been applied successfully for summarization in the broadcast news domain.',\n",
              " 'The unsupervised approach to summarization is also quite similar in spirit to unsupervised keyphrase extraction and gets around the issue of costly training data.',\n",
              " 'Some unsupervised summarization approaches are based on finding a \"centroid\" sentence, which is the mean word vector of all the sentences in the document.',\n",
              " 'Then the sentences can be ranked with regard to their similarity to this centroid sentence.',\n",
              " 'A more principled way to estimate sentence importance is using random walks and eigenvector centrality.',\n",
              " 'LexRank[11] is an algorithm essentially identical to TextRank, and both use this approach for document summarization.',\n",
              " 'The two methods were developed by different groups at the same time, and LexRank simply focused on summarization, but could just as easily be used for keyphrase extraction or any other NLP ranking task.',\n",
              " 'In both LexRank and TextRank, a graph is constructed by creating a vertex for each sentence in the document.',\n",
              " 'The edges between sentences are based on some form of semantic similarity or content overlap.',\n",
              " \"While LexRank uses cosine similarity of TF-IDF vectors, TextRank uses a very similar measure based on the number of words two sentences have in common (normalized by the sentences' lengths).\",\n",
              " 'The LexRank paper explored using unweighted edges after applying a threshold to the cosine values, but also experimented with using edges with weights equal to the similarity score.',\n",
              " 'TextRank uses continuous similarity scores as weights.',\n",
              " 'In both algorithms, the sentences are ranked by applying PageRank to the resulting graph.',\n",
              " 'A summary is formed by combining the top ranking sentences, using a threshold or length cutoff to limit the size of the summary.',\n",
              " 'It is worth noting that TextRank was applied to summarization exactly as described here, while LexRank was used as part of a larger summarization system (MEAD) that combines the LexRank score (stationary probability) with other features like sentence position and length using a linear combination with either user-specified or automatically tuned weights.',\n",
              " 'In this case, some training documents might be needed, though the TextRank results show the additional features are not absolutely necessary.',\n",
              " 'Another important distinction is that TextRank was used for single document summarization, while LexRank has been applied to multi-document summarization.',\n",
              " 'The task remains the same in both cases—only the number of sentences to choose from has grown.',\n",
              " 'However, when summarizing multiple documents, there is a greater risk of selecting duplicate or highly redundant sentences to place in the same summary.',\n",
              " 'Imagine you have a cluster of news articles on a particular event, and you want to produce one summary.',\n",
              " 'Each article is likely to have many similar sentences, and you would only want to include distinct ideas in the summary.',\n",
              " 'To address this issue, LexRank applies a heuristic post-processing step that builds up a summary by adding sentences in rank order, but discards any sentences that are too similar to ones already placed in the summary.',\n",
              " 'The method used is called Cross-Sentence Information Subsumption (CSIS).',\n",
              " 'These methods work based on the idea that sentences \"recommend\" other similar sentences to the reader.',\n",
              " 'Thus, if one sentence is very similar to many others, it will likely be a sentence of great importance.',\n",
              " 'The importance of this sentence also stems from the importance of the sentences \"recommending\" it.',\n",
              " 'Thus, to get ranked highly and placed in a summary, a sentence must be similar to many sentences that are in turn also similar to many other sentences.',\n",
              " 'This makes intuitive sense and allows the algorithms to be applied to any arbitrary new text.',\n",
              " 'The methods are domain-independent and easily portable.',\n",
              " 'One could imagine the features indicating important sentences in the news domain might vary considerably from the biomedical domain.',\n",
              " 'However, the unsupervised \"recommendation\"-based approach applies to any domain.',\n",
              " 'Multi-document summarization is an automatic procedure aimed at extraction of information from multiple texts written about the same topic.',\n",
              " 'Resulting summary report allows individual users, such as professional information consumers, to quickly familiarize themselves with information contained in a large cluster of documents.',\n",
              " 'In such a way, multi-document summarization systems are complementing the news aggregators performing the next step down the road of coping with information overload.',\n",
              " 'Multi-document summarization may also be done in response to a question.',\n",
              " '[12] [4]\\n\\nMulti-document summarization creates information reports that are both concise and comprehensive.',\n",
              " 'With different opinions being put together and outlined, every topic is described from multiple perspectives within a single document.',\n",
              " 'While the goal of a brief summary is to simplify information search and cut the time by pointing to the most relevant source documents, comprehensive multi-document summary should itself contain the required information, hence limiting the need for accessing original files to cases when refinement is required.',\n",
              " 'Automatic summaries present information extracted from multiple sources algorithmically, without any editorial touch or subjective human intervention, thus making it completely unbiased.',\n",
              " '[dubious – discuss]\\n\\nMulti-document extractive summarization faces a problem of potential redundancy.',\n",
              " 'Ideally, we would like to extract sentences that are both \"central\" (i.e., contain the main ideas) and \"diverse\" (i.e., they differ from one another).',\n",
              " 'LexRank deals with diversity as a heuristic final stage using CSIS, and other systems have used similar methods, such as Maximal Marginal Relevance (MMR),[13] in trying to eliminate redundancy in information retrieval results.',\n",
              " 'There is a general purpose graph-based ranking algorithm like Page/Lex/TextRank that handles both \"centrality\" and \"diversity\" in a unified mathematical framework based on absorbing Markov chain random walks.',\n",
              " '(An absorbing random walk is like a standard random walk, except some states are now absorbing states that act as \"black holes\" that cause the walk to end abruptly at that state.)',\n",
              " 'The algorithm is called GRASSHOPPER.',\n",
              " '[14] In addition to explicitly promoting diversity during the ranking process, GRASSHOPPER incorporates a prior ranking (based on sentence position in the case of summarization).',\n",
              " 'The state of the art results for multi-document summarization, however, are obtained using mixtures of submodular functions.',\n",
              " 'These methods have achieved the state of the art results for Document Summarization Corpora, DUC 04 - 07.',\n",
              " '[15] Similar results were also achieved with the use of determinantal point processes (which are a special case of submodular functions) for DUC-04.',\n",
              " '[16]\\n\\nA new method for multi-lingual multi-document summarization that avoids redundancy works by simplifying and generating ideograms that represent the meaning of each sentence in each document and then evaluates similarity \"qualitatively\" by comparing the shape and position of said ideograms has recently been developed.',\n",
              " 'This tool does not use word frequency, does not need training or preprocessing of any kind and works by generating ideograms that represent the meaning of each sentence and then summarizes using two user-supplied parameters: equivalence (when are two sentences to be considered equivalent) and relevance (how long is the desired summary).',\n",
              " 'The idea of a submodular set function has recently emerged as a powerful modeling tool for various summarization problems.',\n",
              " 'Submodular functions naturally model notions of coverage, information, representation and diversity.',\n",
              " 'Moreover, several important combinatorial optimization problems occur as special instances of submodular optimization.',\n",
              " 'For example, the set cover problem is a special case of submodular optimization, since the set cover function is submodular.',\n",
              " 'The set cover function attempts to find a subset of objects which cover a given set of concepts.',\n",
              " 'For example, in document summarization, one would like the summary to cover all important and relevant concepts in the document.',\n",
              " 'This is an instance of set cover.',\n",
              " 'Similarly, the facility location problem is a special case of submodular functions.',\n",
              " 'The Facility Location function also naturally models coverage and diversity.',\n",
              " 'Another example of a submodular optimization problem is using a determinantal point process to model diversity.',\n",
              " 'Similarly, the Maximum-Marginal-Relevance procedure can also be seen as an instance of submodular optimization.',\n",
              " 'All these important models encouraging coverage, diversity and information are all submodular.',\n",
              " 'Moreover, submodular functions can be efficiently combined together, and the resulting function is still submodular.',\n",
              " 'Hence, one could combine one submodular function which models diversity, another one which models coverage and use human supervision to learn a right model of a submodular function for the problem.',\n",
              " 'While submodular functions are fitting problems for summarization, they also admit very efficient algorithms for optimization.',\n",
              " 'For example, a simple greedy algorithm admits a constant factor guarantee.',\n",
              " '[17] Moreover, the greedy algorithm is extremely simple to implement and can scale to large datasets, which is very important for summarization problems.',\n",
              " 'Submodular functions have achieved state-of-the-art for almost all summarization problems.',\n",
              " 'For example, work by Lin and Bilmes, 2012[18] shows that submodular functions achieve the best results to date on DUC-04, DUC-05, DUC-06 and DUC-07 systems for document summarization.',\n",
              " 'Similarly, work by Lin and Bilmes, 2011,[19] shows that many existing systems for automatic summarization are instances of submodular functions.',\n",
              " 'This was a breakthrough result establishing submodular functions as the right models for summarization problems.',\n",
              " '[citation needed]\\n\\nSubmodular Functions have also been used for other summarization tasks.',\n",
              " 'Tschiatschek et al., 2014 show[20] that mixtures of submodular functions achieve state-of-the-art results for image collection summarization.',\n",
              " 'Similarly, Bairi et al., 2015[21] show the utility of submodular functions for summarizing multi-document topic hierarchies.',\n",
              " 'Submodular Functions have also successfully been used for summarizing machine learning datasets.',\n",
              " '[22]\\n• The Reddit bot \"autotldr\",[23] created in 2011 summarizes news articles in the comment-section of reddit posts.',\n",
              " 'It was found to be very useful by the reddit community which upvoted its summaries hundreds of thousands of times.',\n",
              " '[24] The name is reference to TL;DR − Internet slang for \"too long; didn\\'t read\".',\n",
              " '[25][26]\\n\\nThe most common way to evaluate the informativeness of automatic summaries is to compare them with human-made model summaries.',\n",
              " 'Evaluation techniques fall into intrinsic and extrinsic,[27] inter-textual and intra-textual.',\n",
              " '[28]\\n\\nAn intrinsic evaluation tests the summarization system in and of itself while an extrinsic evaluation tests the summarization based on how it affects the completion of some other task.',\n",
              " 'Intrinsic evaluations have assessed mainly the coherence and informativeness of summaries.',\n",
              " 'Extrinsic evaluations, on the other hand, have tested the impact of summarization on tasks like relevance assessment, reading comprehension, etc.',\n",
              " 'Intra-textual methods assess the output of a specific summarization system, and the inter-textual ones focus on contrastive analysis of outputs of several summarization systems.',\n",
              " 'Human judgement often has wide variance on what is considered a \"good\" summary, which means that making the evaluation process automatic is particularly difficult.',\n",
              " 'Manual evaluation can be used, but this is both time and labor-intensive as it requires humans to read not only the summaries but also the source documents.',\n",
              " 'Other issues are those concerning coherence and coverage.',\n",
              " \"One of the metrics used in NIST's annual Document Understanding Conferences, in which research groups submit their systems for both summarization and translation tasks, is the ROUGE metric (Recall-Oriented Understudy for Gisting Evaluation [2]).\",\n",
              " 'It essentially calculates n-gram overlaps between automatically generated summaries and previously-written human summaries.',\n",
              " 'A high level of overlap should indicate a high level of shared concepts between the two summaries.',\n",
              " \"Note that overlap metrics like this are unable to provide any feedback on a summary's coherence.\",\n",
              " 'Anaphor resolution remains another problem yet to be fully solved.',\n",
              " 'Similarly, for image summarization, Tschiatschek et al., developed a Visual-ROUGE score which judges the performance of algorithms for image summarization.',\n",
              " '[29]\\n\\nDomain independent summarization techniques generally apply sets of general features which can be used to identify information-rich text segments.',\n",
              " 'Recent research focus has drifted to domain-specific summarization techniques that utilize the available knowledge specific to the domain of text.',\n",
              " 'For example, automatic summarization research on medical text generally attempts to utilize the various sources of codified medical knowledge and ontologies.',\n",
              " '[30]\\n\\nThe main drawback of the evaluation systems existing so far is that we need at least one reference summary, and for some methods more than one, to be able to compare automatic summaries with models.',\n",
              " 'This is a hard and expensive task.',\n",
              " 'Much effort has to be done in order to have corpus of texts and their corresponding summaries.',\n",
              " 'Furthermore, for some methods, not only do we need to have human-made summaries available for comparison, but also manual annotation has to be performed in some of them (e.g.',\n",
              " 'SCU in the Pyramid Method).',\n",
              " 'In any case, what the evaluation methods need as an input, is a set of summaries to serve as gold standards and a set of automatic summaries.',\n",
              " 'Moreover, they all perform a quantitative evaluation with regard to different similarity metrics.',\n",
              " 'The first publication in the area dates back to 1958 (Lun), starting with a statistical technique.',\n",
              " 'Research increased significantly in 2015.',\n",
              " 'Term frequency–inverse document frequency had been used by 2016.',\n",
              " 'Pattern-based summarization was the most powerful option for multi-document summarization found by 2016.',\n",
              " 'In the following year it was surpassed by latent semantic analysis (LSA) combined with non-negative matrix factorization (NMF).',\n",
              " 'Although they did not replace other approaches and are often combined with them, by 2019 machine learning methods dominated the extractive summarization of single documents, which was considered to be nearing maturity.',\n",
              " 'By 2020 the field was still very active and research is shifting towards abstractive summation and real-time summarization.',\n",
              " '[31]\\n• None Roxana, Angheluta (2002).',\n",
              " 'The Use of Topic Segmentation for Automatic Summarization.',\n",
              " '• None Elena, Lloret and Manuel, Palomar (2009).',\n",
              " 'Challenging Issues of Automatic Summarization: Relevance Detection and Quality-based Evaluation.',\n",
              " '• None Alrehamy, Hassan (2017).',\n",
              " '\"SemCluster: Unsupervised Automatic Keyphrase Extraction Using Affinity Propagation\".',\n",
              " 'Automatic Keyphrases Extraction.',\n",
              " 'Advances in Intelligent Systems and Computing.',\n",
              " '650. pp.',\n",
              " '222–235.',\n",
              " 'doi:10.1007/978-3-319-66939-7_19.',\n",
              " 'ISBN .',\n",
              " '• None Marcu, Daniel (2000).',\n",
              " 'The Theory and Practice of Discourse Parsing and Summarization.',\n",
              " 'ISBN .',\n",
              " \"• , Published in Proceeding RIAO'10 Adaptivity, Personalization and Fusion of Heterogeneous Information, CID Paris, France\\n• None Xiaojin, Zhu, Andrew Goldberg, Jurgen Van Gael, and David Andrzejewski (2007).\",\n",
              " 'Improving diversity in ranking using absorbing random walks .',\n",
              " ', The GRASSHOPPER algorithm\\n• None Miranda-Jiménez, Sabino, Gelbukh, Alexander, and Sidorov, Grigori (2013).',\n",
              " '\"Summarizing Conceptual Graphs for Automatic Summarization Task\".',\n",
              " 'Conceptual Structures for STEM Research and Education.',\n",
              " 'Lecture Notes in Computer Science.',\n",
              " '7735. pp.',\n",
              " '245–253.',\n",
              " 'doi:10.1007/978-3-642-35786-2_18.',\n",
              " 'ISBN .',\n",
              " ', Conceptual Structures for STEM Research and Education.']"
            ]
          },
          "metadata": {
            "tags": []
          },
          "execution_count": 75
        }
      ]
    },
    {
      "cell_type": "code",
      "metadata": {
        "colab": {
          "base_uri": "https://localhost:8080/"
        },
        "id": "RXGDysPRRG3M",
        "outputId": "20675da8-301c-474e-85c7-23b238f57da6"
      },
      "source": [
        "best_sentences"
      ],
      "execution_count": null,
      "outputs": [
        {
          "output_type": "execute_result",
          "data": {
            "text/plain": [
              "['The main difficulty in supervised extractive summarization is that the known summaries must be manually created by extracting sentences so the sentences in an original training document can be labeled as \"in summary\" or \"not in summary\".',\n",
              " 'Another important distinction is that TextRank was used for single document summarization, while LexRank has been applied to multi-document summarization.',\n",
              " '\"Summarizing Conceptual Graphs for Automatic Summarization Task\".',\n",
              " 'Some unsupervised summarization approaches are based on finding a \"centroid\" sentence, which is the mean word vector of all the sentences in the document.',\n",
              " 'Like keyphrase extraction, document summarization aims to identify the essence of a text.',\n",
              " 'Image collection summarization is another application example of automatic summarization.',\n",
              " 'An example of a summarization problem is document summarization, which attempts to automatically produce an abstract from a given document.',\n",
              " 'Text summarization finds the most informative sentences in a document;[1] image summarization finds the most representative images within an image collection[citation needed]; video summarization extracts the most important frames from the video content.',\n",
              " 'For example, if we rank unigrams and find that \"advanced\", \"natural\", \"language\", and \"processing\" all get high ranks, then we would look at the original text and see that these words appear consecutively and create a final keyphrase using all four together.',\n",
              " 'This approach has also been used in document summarization, considered below.',\n",
              " 'Instead of trying to learn explicit features that characterize keyphrases, the TextRank algorithm[8] exploits the structure of the text itself to determine keyphrases that appear \"central\" to the text in the same way that PageRank selects important Web pages.',\n",
              " 'For example, in a text about machine learning, the unigram \"learning\" might co-occur with \"machine\", \"supervised\", \"un-supervised\", and \"semi-supervised\" in four different sentences.',\n",
              " 'For example, in document summarization, one would like the summary to cover all important and relevant concepts in the document.',\n",
              " 'Consider the example text from a news article:\\n\\nA keyphrase extractor might select \"Army Corps of Engineers\", \"President Bush\", \"New Orleans\", and \"defective flood-control pumps\" as keyphrases.',\n",
              " '[citation needed]\\n\\nSubmodular Functions have also been used for other summarization tasks.',\n",
              " 'A promising line in document summarization is adaptive document/text summarization.',\n",
              " 'In contrast, an abstractive keyphrase system would somehow internalize the content and generate keyphrases that do not appear in the text, but more closely resemble what a human might produce, such as \"political negligence\" or \"inadequate protection from floods\".',\n",
              " '[10]\\n\\nSupervised text summarization is very much like supervised keyphrase extraction.',\n",
              " 'Before getting into the details of some summarization methods, we will mention how summarization systems are typically evaluated.',\n",
              " 'Thus, \"natural\" and \"language\" might be linked in a text about NLP.',\n",
              " 'Similarly, if the text contains the phrase \"supervised classification\", then there would be an edge between \"supervised\" and \"classification\".',\n",
              " '\"Paraphrasing\" is even more difficult to apply to image and video, which is why most summarization systems are extractive.',\n",
              " 'In the final post-processing step, we would then end up with keyphrases \"supervised learning\" and \"supervised classification\".',\n",
              " 'Pattern-based summarization was the most powerful option for multi-document summarization found by 2016.',\n",
              " 'The two methods were developed by different groups at the same time, and LexRank simply focused on summarization, but could just as easily be used for keyphrase extraction or any other NLP ranking task.',\n",
              " 'It is worth noting that TextRank was applied to summarization exactly as described here, while LexRank was used as part of a larger summarization system (MEAD) that combines the LexRank score (stationary probability) with other features like sentence position and length using a linear combination with either user-specified or automatically tuned weights.',\n",
              " 'This problem is called multi-document summarization.',\n",
              " 'Examples of extracted content include key-phrases that can be used to \"tag\" or index a text document, or key sentences (including headings) that collectively comprise an abstract, and representative images or video segments, as stated above.',\n",
              " 'Automatic summarization is the process of shortening a set of data computationally, to create a subset (a summary) that represents the most important or relevant information within the original content.',\n",
              " '[28]\\n\\nAn intrinsic evaluation tests the summarization system in and of itself while an extrinsic evaluation tests the summarization based on how it affects the completion of some other task.',\n",
              " 'Summarization systems are able to create both query relevant text summaries and generic machine-generated summaries depending on what the user needs.',\n",
              " 'While submodular functions are fitting problems for summarization, they also admit very efficient algorithms for optimization.',\n",
              " '\"SemCluster: Unsupervised Automatic Keyphrase Extraction Using Affinity Propagation\".',\n",
              " 'These edges build on the notion of \"text cohesion\" and the idea that words that appear near each other are likely related in a meaningful way and \"recommend\" each other to the reader.',\n",
              " 'These methods work based on the idea that sentences \"recommend\" other similar sentences to the reader.',\n",
              " 'Intra-textual methods assess the output of a specific summarization system, and the inter-textual ones focus on contrastive analysis of outputs of several summarization systems.',\n",
              " 'The state of the art results for multi-document summarization, however, are obtained using mixtures of submodular functions.',\n",
              " 'LexRank[11] is an algorithm essentially identical to TextRank, and both use this approach for document summarization.',\n",
              " 'For keyphrase extraction, it builds a graph using some set of text units as vertices.',\n",
              " 'There are broadly two types of extractive summarization tasks depending on what the summarization program focuses on.',\n",
              " 'Multi-document summarization is an automatic procedure aimed at extraction of information from multiple texts written about the same topic.',\n",
              " '\"Natural\" and \"processing\" would also be linked because they would both appear in the same string of N words.',\n",
              " '[29]\\n\\nDomain independent summarization techniques generally apply sets of general features which can be used to identify information-rich text segments.',\n",
              " '[2]\\n\\nThere are two general approaches to automatic summarization: extraction and abstraction.',\n",
              " 'During the DUC 2001 and 2002 evaluation workshops, TNO developed a sentence extraction system for multi-document summarization in the news domain.',\n",
              " 'If it ends up with a high rank, it will be selected as one of the top T unigrams, along with \"learning\" and probably \"classification\".',\n",
              " 'Some techniques and algorithms which naturally model summarization problems are TextRank and PageRank, Submodular set function, Determinantal point process, maximal marginal relevance (MMR) etc.',\n",
              " 'If \"classification\" appears several other places and thus has many neighbors, its importance would contribute to the importance of \"supervised\".',\n",
              " 'Ideally, we would like to extract sentences that are both \"central\" (i.e., contain the main ideas) and \"diverse\" (i.e., they differ from one another).',\n",
              " 'Similarly, work by Lin and Bilmes, 2011,[19] shows that many existing systems for automatic summarization are instances of submodular functions.',\n",
              " 'At a very high level, summarization algorithms try to find subsets of objects (like set of sentences, or a set of images), which cover information of the entire set.',\n",
              " 'The Use of Topic Segmentation for Automatic Summarization.',\n",
              " 'The sentences in these summaries do not necessarily match up with sentences in the original text, so it would be difficult to assign labels to examples for training.',\n",
              " 'Submodular functions have achieved state-of-the-art for almost all summarization problems.',\n",
              " 'Thus, the \"learning\" vertex would be a central \"hub\" that connects to these other modifying words.',\n",
              " 'There is a general purpose graph-based ranking algorithm like Page/Lex/TextRank that handles both \"centrality\" and \"diversity\" in a unified mathematical framework based on absorbing Markov chain random walks.',\n",
              " 'The unsupervised approach to summarization is also quite similar in spirit to unsupervised keyphrase extraction and gets around the issue of costly training data.',\n",
              " 'Multi-document summarization may also be done in response to a question.',\n",
              " 'The importance of this sentence also stems from the importance of the sentences \"recommending\" it.',\n",
              " 'Thus, to get ranked highly and placed in a summary, a sentence must be similar to many sentences that are in turn also similar to many other sentences.',\n",
              " 'For example, automatic summarization research on medical text generally attempts to utilize the various sources of codified medical knowledge and ontologies.',\n",
              " '[16]\\n\\nA new method for multi-lingual multi-document summarization that avoids redundancy works by simplifying and generating ideograms that represent the meaning of each sentence in each document and then evaluates similarity \"qualitatively\" by comparing the shape and position of said ideograms has recently been developed.',\n",
              " 'Recent research focus has drifted to domain-specific summarization techniques that utilize the available knowledge specific to the domain of text.',\n",
              " 'The second is query relevant summarization, sometimes called query-based summarization, which summarizes objects specific to a query.',\n",
              " 'Recall this is based on the notion of \"prestige\" or \"recommendation\" from social networks.',\n",
              " 'Given a document, we construct an example for each unigram, bigram, and trigram found in the text (though other text units are also possible, as discussed below).',\n",
              " \"One of the metrics used in NIST's annual Document Understanding Conferences, in which research groups submit their systems for both summarization and translation tasks, is the ROUGE metric (Recall-Oriented Understudy for Gisting Evaluation [2]).\",\n",
              " 'Similarly, for image summarization, Tschiatschek et al., developed a Visual-ROUGE score which judges the performance of algorithms for image summarization.',\n",
              " 'Query based summarization techniques, additionally model for relevance of the summary with the query.',\n",
              " 'Maximum entropy has also been applied successfully for summarization in the broadcast news domain.',\n",
              " 'This was a breakthrough result establishing submodular functions as the right models for summarization problems.',\n",
              " 'We also need to create features that describe the examples and are informative enough to allow a learning algorithm to discriminate keyphrases from non- keyphrases.',\n",
              " 'Automatic Keyphrases Extraction.',\n",
              " 'For example, work by Lin and Bilmes, 2012[18] shows that submodular functions achieve the best results to date on DUC-04, DUC-05, DUC-06 and DUC-07 systems for document summarization.',\n",
              " 'The idea of a submodular set function has recently emerged as a powerful modeling tool for various summarization problems.',\n",
              " 'Challenging Issues of Automatic Summarization: Relevance Detection and Quality-based Evaluation.',\n",
              " 'In such a way, multi-document summarization systems are complementing the news aggregators performing the next step down the road of coping with information overload.',\n",
              " 'They can enable document browsing by providing a short summary, improve information retrieval (if documents have keyphrases assigned, a user could search by keyphrase to produce more reliable hits than a full-text search), and be employed in generating index entries for a large text corpus.',\n",
              " 'Features might include the position in the document (i.e., the first few sentences are probably important), the number of words in the sentence, etc.',\n",
              " 'Human judgement often has wide variance on what is considered a \"good\" summary, which means that making the evaluation process automatic is particularly difficult.',\n",
              " 'First summarizes that perform adaptive summarization have been created.',\n",
              " '[9] The idea of adaptive summarization involves preliminary recognition of document/text genre and subsequent application of summarization algorithms optimized for this genre.',\n",
              " 'These methods have achieved the state of the art results for Document Summarization Corpora, DUC 04 - 07.',\n",
              " 'The first is generic summarization, which focuses on obtaining a generic summary or abstract of the collection (whether documents, or sets of images, or videos, news stories etc.).',\n",
              " 'In Machine Aided Human Summarization, extractive techniques highlight candidate passages for inclusion (to which the human adds or removes text).',\n",
              " \"In this way, TextRank does not rely on any previous training data at all, but rather can be run on any arbitrary piece of text, and it can produce output simply based on the text's intrinsic properties.\",\n",
              " 'Matches between the proposed keyphrases and the known keyphrases can be checked after stemming or applying some other text normalization.',\n",
              " 'Running PageRank/TextRank on the graph is likely to rank \"learning\" highly.',\n",
              " '[30]\\n\\nThe main drawback of the evaluation systems existing so far is that we need at least one reference summary, and for some methods more than one, to be able to compare automatic summaries with models.',\n",
              " 'Tschiatschek et al., 2014 show[20] that mixtures of submodular functions achieve state-of-the-art results for image collection summarization.',\n",
              " 'Submodular Functions have also successfully been used for summarizing machine learning datasets.',\n",
              " '[12] [4]\\n\\nMulti-document summarization creates information reports that are both concise and comprehensive.',\n",
              " 'Once the graph is constructed, it is used to form a stochastic matrix, combined with a damping factor (as in the \"random surfer model\"), and the ranking over vertices is obtained by finding the eigenvector corresponding to eigenvalue 1 (i.e., the stationary distribution of the random walk on the graph).',\n",
              " 'Although they did not replace other approaches and are often combined with them, by 2019 machine learning methods dominated the extractive summarization of single documents, which was considered to be nearing maturity.',\n",
              " 'In any case, what the evaluation methods need as an input, is a set of summaries to serve as gold standards and a set of automatic summaries.',\n",
              " 'Another keyphrase extraction algorithm is TextRank.',\n",
              " 'For example, the set cover problem is a special case of submodular optimization, since the set cover function is submodular.',\n",
              " 'Sometimes one might be interested in generating a summary from a single source document, while others can use multiple source documents (for example, a cluster of articles on the same topic).',\n",
              " 'Basically, if you have a collection of documents and human-generated summaries for them, you can learn features of sentences that make them good candidates for inclusion in the summary.',\n",
              " '[6] In the case of research articles, many authors provide manually assigned keywords, but most text lacks pre-existing keyphrases.',\n",
              " 'We assume there are known keyphrases available for a set of training documents.',\n",
              " 'Many documents with known keyphrases are needed.',\n",
              " \"In the case of Turney's GenEx algorithm, a genetic algorithm is used to learn parameters for a domain-specific keyphrase extraction algorithm.\",\n",
              " '[14] In addition to explicitly promoting diversity during the ranking process, GRASSHOPPER incorporates a prior ranking (based on sentence position in the case of summarization).',\n",
              " '[17] Moreover, the greedy algorithm is extremely simple to implement and can scale to large datasets, which is very important for summarization problems.',\n",
              " 'For text, extraction is analogous to the process of skimming, where the summary (if available), headings and subheadings, figures, the first and last paragraphs of a section, and optionally the first and last sentences in a paragraph are read before one chooses to read the entire document in detail.',\n",
              " 'Each article is likely to have many similar sentences, and you would only want to include distinct ideas in the summary.',\n",
              " 'Once examples and features are created, we need a way to learn to predict keyphrases.',\n",
              " 'In Human Aided Machine Summarization, a human post-processes software output, in the same way that one edits the output of automatic translation by Google Translate.',\n",
              " 'Hence, one could combine one submodular function which models diversity, another one which models coverage and use human supervision to learn a right model of a submodular function for the problem.',\n",
              " 'Another example of a submodular optimization problem is using a determinantal point process to model diversity.',\n",
              " 'The Theory and Practice of Discourse Parsing and Summarization.',\n",
              " 'Video summarization is a related domain, where the system automatically creates a trailer of a long video.',\n",
              " 'Ensemble methods (i.e., using votes from several classifiers) have been used to produce numeric scores that can be thresholded to provide a user-provided number of keyphrases.',\n",
              " 'In the end, the system will need to return a list of keyphrases for a test document, so we need to have a way to limit the number.',\n",
              " 'Because ROUGE is based only on content overlap, it can determine if the same general concepts are discussed between an automatic summary and a reference summary, but it cannot determine if the result is coherent or the sentences flow together in a sensible manner.',\n",
              " 'However, the unsupervised \"recommendation\"-based approach applies to any domain.',\n",
              " \"While LexRank uses cosine similarity of TF-IDF vectors, TextRank uses a very similar measure based on the number of words two sentences have in common (normalized by the sentences' lengths).\",\n",
              " '[dubious – discuss]\\n\\nMulti-document extractive summarization faces a problem of potential redundancy.',\n",
              " 'Manual evaluation can be used, but this is both time and labor-intensive as it requires humans to read not only the summaries but also the source documents.']"
            ]
          },
          "metadata": {
            "tags": []
          },
          "execution_count": 76
        }
      ]
    },
    {
      "cell_type": "code",
      "metadata": {
        "colab": {
          "base_uri": "https://localhost:8080/"
        },
        "id": "M0PUOPX9RKMx",
        "outputId": "89d1ebcc-40ab-465d-982b-61e2a40ecba4"
      },
      "source": [
        "scores"
      ],
      "execution_count": null,
      "outputs": [
        {
          "output_type": "execute_result",
          "data": {
            "text/plain": [
              "[(0.008066410954445168,\n",
              "  'The main difficulty in supervised extractive summarization is that the known summaries must be manually created by extracting sentences so the sentences in an original training document can be labeled as \"in summary\" or \"not in summary\".'),\n",
              " (0.007128879450849699,\n",
              "  'Another important distinction is that TextRank was used for single document summarization, while LexRank has been applied to multi-document summarization.'),\n",
              " (0.006955931011572642,\n",
              "  '\"Summarizing Conceptual Graphs for Automatic Summarization Task\".'),\n",
              " (0.006863732638140646,\n",
              "  'Some unsupervised summarization approaches are based on finding a \"centroid\" sentence, which is the mean word vector of all the sentences in the document.'),\n",
              " (0.0066832688001826545,\n",
              "  'Like keyphrase extraction, document summarization aims to identify the essence of a text.'),\n",
              " (0.006670697377283339,\n",
              "  'Image collection summarization is another application example of automatic summarization.'),\n",
              " (0.006633247787878496,\n",
              "  'An example of a summarization problem is document summarization, which attempts to automatically produce an abstract from a given document.'),\n",
              " (0.006616733040070771,\n",
              "  'Text summarization finds the most informative sentences in a document;[1] image summarization finds the most representative images within an image collection[citation needed]; video summarization extracts the most important frames from the video content.'),\n",
              " (0.006490962409797412,\n",
              "  'For example, if we rank unigrams and find that \"advanced\", \"natural\", \"language\", and \"processing\" all get high ranks, then we would look at the original text and see that these words appear consecutively and create a final keyphrase using all four together.'),\n",
              " (0.006466850644525752,\n",
              "  'This approach has also been used in document summarization, considered below.'),\n",
              " (0.006430608113427904,\n",
              "  'Instead of trying to learn explicit features that characterize keyphrases, the TextRank algorithm[8] exploits the structure of the text itself to determine keyphrases that appear \"central\" to the text in the same way that PageRank selects important Web pages.'),\n",
              " (0.006415970843232676,\n",
              "  'For example, in a text about machine learning, the unigram \"learning\" might co-occur with \"machine\", \"supervised\", \"un-supervised\", and \"semi-supervised\" in four different sentences.'),\n",
              " (0.006350253593110387,\n",
              "  'For example, in document summarization, one would like the summary to cover all important and relevant concepts in the document.'),\n",
              " (0.006270257541326081,\n",
              "  'Consider the example text from a news article:\\n\\nA keyphrase extractor might select \"Army Corps of Engineers\", \"President Bush\", \"New Orleans\", and \"defective flood-control pumps\" as keyphrases.'),\n",
              " (0.006197268075499611,\n",
              "  '[citation needed]\\n\\nSubmodular Functions have also been used for other summarization tasks.'),\n",
              " (0.006071559459703841,\n",
              "  'A promising line in document summarization is adaptive document/text summarization.'),\n",
              " (0.006057333845766385,\n",
              "  'In contrast, an abstractive keyphrase system would somehow internalize the content and generate keyphrases that do not appear in the text, but more closely resemble what a human might produce, such as \"political negligence\" or \"inadequate protection from floods\".'),\n",
              " (0.005968199312729815,\n",
              "  '[10]\\n\\nSupervised text summarization is very much like supervised keyphrase extraction.'),\n",
              " (0.005885733878213043,\n",
              "  'Before getting into the details of some summarization methods, we will mention how summarization systems are typically evaluated.'),\n",
              " (0.005834333909598608,\n",
              "  'Thus, \"natural\" and \"language\" might be linked in a text about NLP.'),\n",
              " (0.005759852612336309,\n",
              "  'Similarly, if the text contains the phrase \"supervised classification\", then there would be an edge between \"supervised\" and \"classification\".'),\n",
              " (0.005753176613578506,\n",
              "  '\"Paraphrasing\" is even more difficult to apply to image and video, which is why most summarization systems are extractive.'),\n",
              " (0.005641442670633385,\n",
              "  'In the final post-processing step, we would then end up with keyphrases \"supervised learning\" and \"supervised classification\".'),\n",
              " (0.005602075068938896,\n",
              "  'Pattern-based summarization was the most powerful option for multi-document summarization found by 2016.'),\n",
              " (0.005583803151825776,\n",
              "  'The two methods were developed by different groups at the same time, and LexRank simply focused on summarization, but could just as easily be used for keyphrase extraction or any other NLP ranking task.'),\n",
              " (0.005531870003230179,\n",
              "  'It is worth noting that TextRank was applied to summarization exactly as described here, while LexRank was used as part of a larger summarization system (MEAD) that combines the LexRank score (stationary probability) with other features like sentence position and length using a linear combination with either user-specified or automatically tuned weights.'),\n",
              " (0.005490241795954872,\n",
              "  'This problem is called multi-document summarization.'),\n",
              " (0.005452248374450549,\n",
              "  'Examples of extracted content include key-phrases that can be used to \"tag\" or index a text document, or key sentences (including headings) that collectively comprise an abstract, and representative images or video segments, as stated above.'),\n",
              " (0.0053796426654247375,\n",
              "  'Automatic summarization is the process of shortening a set of data computationally, to create a subset (a summary) that represents the most important or relevant information within the original content.'),\n",
              " (0.005339413292327261,\n",
              "  '[28]\\n\\nAn intrinsic evaluation tests the summarization system in and of itself while an extrinsic evaluation tests the summarization based on how it affects the completion of some other task.'),\n",
              " (0.005264703340019995,\n",
              "  'Summarization systems are able to create both query relevant text summaries and generic machine-generated summaries depending on what the user needs.'),\n",
              " (0.005235961073542832,\n",
              "  'While submodular functions are fitting problems for summarization, they also admit very efficient algorithms for optimization.'),\n",
              " (0.005231689183169431,\n",
              "  '\"SemCluster: Unsupervised Automatic Keyphrase Extraction Using Affinity Propagation\".'),\n",
              " (0.0052278294555933745,\n",
              "  'These edges build on the notion of \"text cohesion\" and the idea that words that appear near each other are likely related in a meaningful way and \"recommend\" each other to the reader.'),\n",
              " (0.005226921672778222,\n",
              "  'These methods work based on the idea that sentences \"recommend\" other similar sentences to the reader.'),\n",
              " (0.005185183809357306,\n",
              "  'Intra-textual methods assess the output of a specific summarization system, and the inter-textual ones focus on contrastive analysis of outputs of several summarization systems.'),\n",
              " (0.005183462637258437,\n",
              "  'The state of the art results for multi-document summarization, however, are obtained using mixtures of submodular functions.'),\n",
              " (0.005167980733804775,\n",
              "  'LexRank[11] is an algorithm essentially identical to TextRank, and both use this approach for document summarization.'),\n",
              " (0.005157555618817258,\n",
              "  'For keyphrase extraction, it builds a graph using some set of text units as vertices.'),\n",
              " (0.005145419702231585,\n",
              "  'There are broadly two types of extractive summarization tasks depending on what the summarization program focuses on.'),\n",
              " (0.005140594579661828,\n",
              "  'Multi-document summarization is an automatic procedure aimed at extraction of information from multiple texts written about the same topic.'),\n",
              " (0.0051292106776697445,\n",
              "  '\"Natural\" and \"processing\" would also be linked because they would both appear in the same string of N words.'),\n",
              " (0.005114878729472219,\n",
              "  '[29]\\n\\nDomain independent summarization techniques generally apply sets of general features which can be used to identify information-rich text segments.'),\n",
              " (0.005105968897126106,\n",
              "  '[2]\\n\\nThere are two general approaches to automatic summarization: extraction and abstraction.'),\n",
              " (0.005043760158155453,\n",
              "  'During the DUC 2001 and 2002 evaluation workshops, TNO developed a sentence extraction system for multi-document summarization in the news domain.'),\n",
              " (0.004984946643452198,\n",
              "  'If it ends up with a high rank, it will be selected as one of the top T unigrams, along with \"learning\" and probably \"classification\".'),\n",
              " (0.004954776138792367,\n",
              "  'Some techniques and algorithms which naturally model summarization problems are TextRank and PageRank, Submodular set function, Determinantal point process, maximal marginal relevance (MMR) etc.'),\n",
              " (0.004913626986989264,\n",
              "  'If \"classification\" appears several other places and thus has many neighbors, its importance would contribute to the importance of \"supervised\".'),\n",
              " (0.004912749933876679,\n",
              "  'Ideally, we would like to extract sentences that are both \"central\" (i.e., contain the main ideas) and \"diverse\" (i.e., they differ from one another).'),\n",
              " (0.0049043698770902255,\n",
              "  'Similarly, work by Lin and Bilmes, 2011,[19] shows that many existing systems for automatic summarization are instances of submodular functions.'),\n",
              " (0.00489692534472836,\n",
              "  'At a very high level, summarization algorithms try to find subsets of objects (like set of sentences, or a set of images), which cover information of the entire set.'),\n",
              " (0.004896038939736339,\n",
              "  'The Use of Topic Segmentation for Automatic Summarization.'),\n",
              " (0.004878920593654187,\n",
              "  'The sentences in these summaries do not necessarily match up with sentences in the original text, so it would be difficult to assign labels to examples for training.'),\n",
              " (0.004877666740882727,\n",
              "  'Submodular functions have achieved state-of-the-art for almost all summarization problems.'),\n",
              " (0.004847918109674009,\n",
              "  'Thus, the \"learning\" vertex would be a central \"hub\" that connects to these other modifying words.'),\n",
              " (0.0047842111849657,\n",
              "  'There is a general purpose graph-based ranking algorithm like Page/Lex/TextRank that handles both \"centrality\" and \"diversity\" in a unified mathematical framework based on absorbing Markov chain random walks.'),\n",
              " (0.004779057087511643,\n",
              "  'The unsupervised approach to summarization is also quite similar in spirit to unsupervised keyphrase extraction and gets around the issue of costly training data.'),\n",
              " (0.004764499372330339,\n",
              "  'Multi-document summarization may also be done in response to a question.'),\n",
              " (0.004744814062568288,\n",
              "  'The importance of this sentence also stems from the importance of the sentences \"recommending\" it.'),\n",
              " (0.004708796229341074,\n",
              "  'Thus, to get ranked highly and placed in a summary, a sentence must be similar to many sentences that are in turn also similar to many other sentences.'),\n",
              " (0.004708244639542952,\n",
              "  'For example, automatic summarization research on medical text generally attempts to utilize the various sources of codified medical knowledge and ontologies.'),\n",
              " (0.00470303441838992,\n",
              "  '[16]\\n\\nA new method for multi-lingual multi-document summarization that avoids redundancy works by simplifying and generating ideograms that represent the meaning of each sentence in each document and then evaluates similarity \"qualitatively\" by comparing the shape and position of said ideograms has recently been developed.'),\n",
              " (0.004700344731884303,\n",
              "  'Recent research focus has drifted to domain-specific summarization techniques that utilize the available knowledge specific to the domain of text.'),\n",
              " (0.004691030715423905,\n",
              "  'The second is query relevant summarization, sometimes called query-based summarization, which summarizes objects specific to a query.'),\n",
              " (0.0046899873436840505,\n",
              "  'Recall this is based on the notion of \"prestige\" or \"recommendation\" from social networks.'),\n",
              " (0.004685631612845073,\n",
              "  'Given a document, we construct an example for each unigram, bigram, and trigram found in the text (though other text units are also possible, as discussed below).'),\n",
              " (0.004674978026751434,\n",
              "  \"One of the metrics used in NIST's annual Document Understanding Conferences, in which research groups submit their systems for both summarization and translation tasks, is the ROUGE metric (Recall-Oriented Understudy for Gisting Evaluation [2]).\"),\n",
              " (0.004655966347420689,\n",
              "  'Similarly, for image summarization, Tschiatschek et al., developed a Visual-ROUGE score which judges the performance of algorithms for image summarization.'),\n",
              " (0.00463247484082185,\n",
              "  'Query based summarization techniques, additionally model for relevance of the summary with the query.'),\n",
              " (0.004624975510996101,\n",
              "  'Maximum entropy has also been applied successfully for summarization in the broadcast news domain.'),\n",
              " (0.004559370137650511,\n",
              "  'This was a breakthrough result establishing submodular functions as the right models for summarization problems.'),\n",
              " (0.004559157853228383,\n",
              "  'We also need to create features that describe the examples and are informative enough to allow a learning algorithm to discriminate keyphrases from non- keyphrases.'),\n",
              " (0.004553272310757971, 'Automatic Keyphrases Extraction.'),\n",
              " (0.0045223697010364295,\n",
              "  'For example, work by Lin and Bilmes, 2012[18] shows that submodular functions achieve the best results to date on DUC-04, DUC-05, DUC-06 and DUC-07 systems for document summarization.'),\n",
              " (0.00442780291784467,\n",
              "  'The idea of a submodular set function has recently emerged as a powerful modeling tool for various summarization problems.'),\n",
              " (0.004367849636129523,\n",
              "  'Challenging Issues of Automatic Summarization: Relevance Detection and Quality-based Evaluation.'),\n",
              " (0.004308424687820131,\n",
              "  'In such a way, multi-document summarization systems are complementing the news aggregators performing the next step down the road of coping with information overload.'),\n",
              " (0.004274475890630879,\n",
              "  'They can enable document browsing by providing a short summary, improve information retrieval (if documents have keyphrases assigned, a user could search by keyphrase to produce more reliable hits than a full-text search), and be employed in generating index entries for a large text corpus.'),\n",
              " (0.004257377706538434,\n",
              "  'Features might include the position in the document (i.e., the first few sentences are probably important), the number of words in the sentence, etc.'),\n",
              " (0.004197379206962242,\n",
              "  'Human judgement often has wide variance on what is considered a \"good\" summary, which means that making the evaluation process automatic is particularly difficult.'),\n",
              " (0.004196536813268923,\n",
              "  'First summarizes that perform adaptive summarization have been created.'),\n",
              " (0.004193553511297936,\n",
              "  '[9] The idea of adaptive summarization involves preliminary recognition of document/text genre and subsequent application of summarization algorithms optimized for this genre.'),\n",
              " (0.0041740586288398175,\n",
              "  'These methods have achieved the state of the art results for Document Summarization Corpora, DUC 04 - 07.'),\n",
              " (0.004130226146091831,\n",
              "  'The first is generic summarization, which focuses on obtaining a generic summary or abstract of the collection (whether documents, or sets of images, or videos, news stories etc.).'),\n",
              " (0.0041295508393123515,\n",
              "  'In Machine Aided Human Summarization, extractive techniques highlight candidate passages for inclusion (to which the human adds or removes text).'),\n",
              " (0.004124278852970155,\n",
              "  \"In this way, TextRank does not rely on any previous training data at all, but rather can be run on any arbitrary piece of text, and it can produce output simply based on the text's intrinsic properties.\"),\n",
              " (0.004101939588523168,\n",
              "  'Matches between the proposed keyphrases and the known keyphrases can be checked after stemming or applying some other text normalization.'),\n",
              " (0.004101632371243924,\n",
              "  'Running PageRank/TextRank on the graph is likely to rank \"learning\" highly.'),\n",
              " (0.0040861698919540945,\n",
              "  '[30]\\n\\nThe main drawback of the evaluation systems existing so far is that we need at least one reference summary, and for some methods more than one, to be able to compare automatic summaries with models.'),\n",
              " (0.004076312095338181,\n",
              "  'Tschiatschek et al., 2014 show[20] that mixtures of submodular functions achieve state-of-the-art results for image collection summarization.'),\n",
              " (0.0039719112522904375,\n",
              "  'Submodular Functions have also successfully been used for summarizing machine learning datasets.'),\n",
              " (0.003959918399444216,\n",
              "  '[12] [4]\\n\\nMulti-document summarization creates information reports that are both concise and comprehensive.'),\n",
              " (0.0039582605493917265,\n",
              "  'Once the graph is constructed, it is used to form a stochastic matrix, combined with a damping factor (as in the \"random surfer model\"), and the ranking over vertices is obtained by finding the eigenvector corresponding to eigenvalue 1 (i.e., the stationary distribution of the random walk on the graph).'),\n",
              " (0.0039503286856237335,\n",
              "  'Although they did not replace other approaches and are often combined with them, by 2019 machine learning methods dominated the extractive summarization of single documents, which was considered to be nearing maturity.'),\n",
              " (0.003944833336812075,\n",
              "  'In any case, what the evaluation methods need as an input, is a set of summaries to serve as gold standards and a set of automatic summaries.'),\n",
              " (0.003932616602382245, 'Another keyphrase extraction algorithm is TextRank.'),\n",
              " (0.003910669372259716,\n",
              "  'For example, the set cover problem is a special case of submodular optimization, since the set cover function is submodular.'),\n",
              " (0.003910361657828833,\n",
              "  'Sometimes one might be interested in generating a summary from a single source document, while others can use multiple source documents (for example, a cluster of articles on the same topic).'),\n",
              " (0.003900056018932468,\n",
              "  'Basically, if you have a collection of documents and human-generated summaries for them, you can learn features of sentences that make them good candidates for inclusion in the summary.'),\n",
              " (0.0038883856896626237,\n",
              "  '[6] In the case of research articles, many authors provide manually assigned keywords, but most text lacks pre-existing keyphrases.'),\n",
              " (0.0038799710774179734,\n",
              "  'We assume there are known keyphrases available for a set of training documents.'),\n",
              " (0.003879118948528008, 'Many documents with known keyphrases are needed.'),\n",
              " (0.003865276559140547,\n",
              "  \"In the case of Turney's GenEx algorithm, a genetic algorithm is used to learn parameters for a domain-specific keyphrase extraction algorithm.\"),\n",
              " (0.0038585613432723415,\n",
              "  '[14] In addition to explicitly promoting diversity during the ranking process, GRASSHOPPER incorporates a prior ranking (based on sentence position in the case of summarization).'),\n",
              " (0.003845138054822939,\n",
              "  '[17] Moreover, the greedy algorithm is extremely simple to implement and can scale to large datasets, which is very important for summarization problems.'),\n",
              " (0.003842662521471977,\n",
              "  'For text, extraction is analogous to the process of skimming, where the summary (if available), headings and subheadings, figures, the first and last paragraphs of a section, and optionally the first and last sentences in a paragraph are read before one chooses to read the entire document in detail.'),\n",
              " (0.0038295787494964455,\n",
              "  'Each article is likely to have many similar sentences, and you would only want to include distinct ideas in the summary.'),\n",
              " (0.0037957798659887495,\n",
              "  'Once examples and features are created, we need a way to learn to predict keyphrases.'),\n",
              " (0.0037740848430315326,\n",
              "  'In Human Aided Machine Summarization, a human post-processes software output, in the same way that one edits the output of automatic translation by Google Translate.'),\n",
              " (0.0037659829692740406,\n",
              "  'Hence, one could combine one submodular function which models diversity, another one which models coverage and use human supervision to learn a right model of a submodular function for the problem.'),\n",
              " (0.0037155633788248273,\n",
              "  'Another example of a submodular optimization problem is using a determinantal point process to model diversity.'),\n",
              " (0.0036978862894589833,\n",
              "  'The Theory and Practice of Discourse Parsing and Summarization.'),\n",
              " (0.003691481217697702,\n",
              "  'Video summarization is a related domain, where the system automatically creates a trailer of a long video.'),\n",
              " (0.003690629753340135,\n",
              "  'Ensemble methods (i.e., using votes from several classifiers) have been used to produce numeric scores that can be thresholded to provide a user-provided number of keyphrases.'),\n",
              " (0.0036808547891277682,\n",
              "  'In the end, the system will need to return a list of keyphrases for a test document, so we need to have a way to limit the number.'),\n",
              " (0.003668778191442529,\n",
              "  'Because ROUGE is based only on content overlap, it can determine if the same general concepts are discussed between an automatic summary and a reference summary, but it cannot determine if the result is coherent or the sentences flow together in a sensible manner.'),\n",
              " (0.003660919834170274,\n",
              "  'However, the unsupervised \"recommendation\"-based approach applies to any domain.'),\n",
              " (0.003655096791420159,\n",
              "  \"While LexRank uses cosine similarity of TF-IDF vectors, TextRank uses a very similar measure based on the number of words two sentences have in common (normalized by the sentences' lengths).\"),\n",
              " (0.0036479708461826348,\n",
              "  '[dubious – discuss]\\n\\nMulti-document extractive summarization faces a problem of potential redundancy.'),\n",
              " (0.0035989063060653356,\n",
              "  'Manual evaluation can be used, but this is both time and labor-intensive as it requires humans to read not only the summaries but also the source documents.'),\n",
              " (0.0035290885079963933,\n",
              "  'Abstraction may transform the extracted content by paraphrasing sections of the source document, to condense a text more strongly than extraction.'),\n",
              " (0.003517410357139632,\n",
              "  'To address this issue, LexRank applies a heuristic post-processing step that builds up a summary by adding sentences in rank order, but discards any sentences that are too similar to ones already placed in the summary.'),\n",
              " (0.0035065021502116204,\n",
              "  'Approaches aimed at higher summarization quality rely on combined software and human effort.'),\n",
              " (0.0034922533461765764,\n",
              "  'A summary is formed by combining the top ranking sentences, using a threshold or length cutoff to limit the size of the summary.'),\n",
              " (0.0034922519855054976,\n",
              "  'In addition to text, images and videos can also be summarized.'),\n",
              " (0.003490450842958799,\n",
              "  'Recall measures how many of the true keyphrases your system proposed.'),\n",
              " (0.003461725722323523,\n",
              "  'For example, news articles rarely have keyphrases attached, but it would be useful to be able to automatically do so for a number of applications discussed below.'),\n",
              " (0.0034508205597450613,\n",
              "  'While supervised methods have some nice properties, like being able to produce interpretable rules for what features characterize a keyphrase, they also require a large amount of training data.'),\n",
              " (0.0034507454805401457,\n",
              "  'Edges are based on some measure of semantic or lexical similarity between the text unit vertices.'),\n",
              " (0.0034434585221561342,\n",
              "  'For instance, in the above text, we might learn a rule that says phrases with initial capital letters are likely to be keyphrases.'),\n",
              " (0.0034394372430556807,\n",
              "  'Although the system exhibited good results, the researchers wanted to explore the effectiveness of a maximum entropy (ME) classifier for the meeting summarization task, as ME is known to be robust against feature dependencies.'),\n",
              " (0.003434202551071832, 'Keyphrases have many applications.'),\n",
              " (0.003420720586248712,\n",
              "  'As a result, potentially more or less than T final keyphrases will be produced, but the number should be roughly proportional to the length of the original text.'),\n",
              " (0.0034176349965823654, 'ISBN .'),\n",
              " (0.0034176349965823654, 'ISBN .'),\n",
              " (0.0034176349965823654, 'ISBN .'),\n",
              " (0.0034176349965823654, '7735. pp.'),\n",
              " (0.0034176349965823654, '650. pp.'),\n",
              " (0.0034169543402091896,\n",
              "  'If probabilities are given, a threshold is used to select the keyphrases.'),\n",
              " (0.003414355216364141,\n",
              "  'Such transformation, however, is computationally much more challenging than extraction, involving both natural language processing and often a deep understanding of the domain of the original text in cases where the original document relates to a special field of knowledge.'),\n",
              " (0.0034061658364563756,\n",
              "  'This tool does not use word frequency, does not need training or preprocessing of any kind and works by generating ideograms that represent the meaning of each sentence and then summarizes using two user-supplied parameters: equivalence (when are two sentences to be considered equivalent) and relevance (how long is the desired summary).'),\n",
              " (0.0033926157963443124,\n",
              "  'Hulth uses a reduced set of features, which were found most successful in the KEA (Keyphrase Extraction Algorithm) work derived from Turney’s seminal paper.'),\n",
              " (0.003367787584398396,\n",
              "  'Since this method simply ranks the individual vertices, we need a way to threshold or produce a limited number of keyphrases.'),\n",
              " (0.003364810850011662,\n",
              "  '[22]\\n• The Reddit bot \"autotldr\",[23] created in 2011 summarizes news articles in the comment-section of reddit posts.'),\n",
              " (0.003356145829542491,\n",
              "  'Using the known keyphrases, we can assign positive or negative labels to the examples.'),\n",
              " (0.00333574130542852,\n",
              "  'LexRank deals with diversity as a heuristic final stage using CSIS, and other systems have used similar methods, such as Maximal Marginal Relevance (MMR),[13] in trying to eliminate redundancy in information retrieval results.'),\n",
              " (0.0033329883981868627,\n",
              "  'Beginning with the work of Turney,[7] many researchers have approached keyphrase extraction as a supervised machine learning problem.'),\n",
              " (0.0033126644462390356,\n",
              "  'These algorithms model notions like diversity, coverage, information and representativeness of the summary.'),\n",
              " (0.003301080249567615,\n",
              "  'Typically features involve various term frequencies (how many times a phrase appears in the current text or in a larger corpus), the length of the example, relative position of the first occurrence, various boolean syntactic features (e.g., contains all caps), etc.'),\n",
              " (0.0032746655724196247,\n",
              "  '[15] Similar results were also achieved with the use of determinantal point processes (which are a special case of submodular functions) for DUC-04.'),\n",
              " (0.003241386843512161,\n",
              "  'Submodular functions naturally model notions of coverage, information, representation and diversity.'),\n",
              " (0.0032362334476968447,\n",
              "  'It is not initially clear why applying PageRank to a co-occurrence graph would produce useful keyphrases.'),\n",
              " (0.003230878338523844,\n",
              "  'This is a recall-based measure that determines how well a system-generated summary covers the content present in one or more human-generated model summaries known as references.'),\n",
              " (0.0032274690178442015,\n",
              "  'One could imagine the features indicating important sentences in the news domain might vary considerably from the biomedical domain.'),\n",
              " (0.0032078213401659284,\n",
              "  'Two vertices are connected by an edge if the unigrams appear within a window of size N in the original text.'),\n",
              " (0.0032069753470351722,\n",
              "  'By 2020 the field was still very active and research is shifting towards abstractive summation and real-time summarization.'),\n",
              " (0.0032033161285746014,\n",
              "  'Extrinsic evaluations, on the other hand, have tested the impact of summarization on tasks like relevance assessment, reading comprehension, etc.'),\n",
              " (0.0031935434425288925,\n",
              "  'The edges between sentences are based on some form of semantic similarity or content overlap.'),\n",
              " (0.0031919513100424103,\n",
              "  'However, when summarizing multiple documents, there is a greater risk of selecting duplicate or highly redundant sentences to place in the same summary.'),\n",
              " (0.0031604680199486083,\n",
              "  'It is recall-based to encourage systems to include all the important topics in the text.'),\n",
              " (0.00315921469412986,\n",
              "  'After training a learner, we can select keyphrases for test documents in the following manner.'),\n",
              " (0.00315484432973903,\n",
              "  'All these important models encouraging coverage, diversity and information are all submodular.'),\n",
              " (0.0031455938703638937,\n",
              "  'Note, however, that these natural summaries can still be used for evaluation purposes, since ROUGE-1 only cares about unigrams.'),\n",
              " (0.003132527918414128,\n",
              "  '[3] Other examples of extraction that include key sequences of text in terms of clinical relevance (including patient/problem, intervention, and outcome).'),\n",
              " (0.003108344078011091,\n",
              "  'You are given a piece of text, such as a journal article, and you must produce a list of keywords or key[phrase]s that capture the primary topics discussed in the text.'),\n",
              " (0.0030920913316322793,\n",
              "  'Unsupervised keyphrase extraction removes the need for training data.'),\n",
              " (0.0030798097888327016,\n",
              "  'Abstraction requires a deep understanding of the text, which makes it difficult for a computer system.'),\n",
              " (0.0030636211179459446,\n",
              "  'The only real difference is that now we are dealing with larger text units—whole sentences instead of words and phrases.'),\n",
              " (0.003042828863812088,\n",
              "  'A word that appears multiple times throughout a text may have many different co-occurring neighbors.'),\n",
              " (0.003010025593807844,\n",
              "  'In both LexRank and TextRank, a graph is constructed by creating a vertex for each sentence in the document.'),\n",
              " (0.0030045826801323324,\n",
              "  'Imagine you have a cluster of news articles on a particular event, and you want to produce one summary.'),\n",
              " (0.002997455161313896,\n",
              "  'Thus, if one sentence is very similar to many others, it will likely be a sentence of great importance.'),\n",
              " (0.002989545440360234,\n",
              "  'While the goal of a brief summary is to simplify information search and cut the time by pointing to the most relevant source documents, comprehensive multi-document summary should itself contain the required information, hence limiting the need for accessing original files to cases when refinement is required.'),\n",
              " (0.0029886961662050314,\n",
              "  'In both algorithms, the sentences are ranked by applying PageRank to the resulting graph.'),\n",
              " (0.002900011265109316,\n",
              "  'Moreover, submodular functions can be efficiently combined together, and the resulting function is still submodular.'),\n",
              " (0.002894820692348399, '[4]\\n\\nThis has been applied mainly for text.'),\n",
              " (0.0028923762345305507,\n",
              "  '[25][26]\\n\\nThe most common way to evaluate the informativeness of automatic summaries is to compare them with human-made model summaries.'),\n",
              " (0.002820030804382429,\n",
              "  'Similarly, the facility location problem is a special case of submodular functions.'),\n",
              " (0.0028166667871987257,\n",
              "  'In this case, some training documents might be needed, though the TextRank results show the additional features are not absolutely necessary.'),\n",
              " (0.002810872295683924,\n",
              "  'Precision measures how many of the proposed keyphrases are actually correct.'),\n",
              " (0.002804003420669418,\n",
              "  'Hulth used a single binary classifier so the learning algorithm implicitly determines the appropriate number.'),\n",
              " (0.0027865336930169215,\n",
              "  'Designing a supervised keyphrase extraction system involves deciding on several choices (some of these apply to unsupervised, too).'),\n",
              " (0.0027768050280683925,\n",
              "  'For example, ROUGE-1 is computed as division of count of unigrams in reference that appear in system and count of unigrams in reference summary.'),\n",
              " (0.0027742318127269593, 'These are pulled directly from the text.'),\n",
              " (0.002773205784992368,\n",
              "  'However, generating too many examples can also lead to low precision.'),\n",
              " (0.0027659967465147226,\n",
              "  'Furthermore, for some methods, not only do we need to have human-made summaries available for comparison, but also manual annotation has to be performed in some of them (e.g.'),\n",
              " (0.002765179037155327,\n",
              "  'Then the sentences can be ranked with regard to their similarity to this centroid sentence.'),\n",
              " (0.002733479518806742,\n",
              "  'Abstractive methods build an internal semantic representation of the original content, and then use this representation to create a summary that is closer to what a human might express.'),\n",
              " (0.002725659651765231,\n",
              "  'The LexRank paper explored using unweighted edges after applying a threshold to the cosine values, but also experimented with using edges with weights equal to the similarity score.'),\n",
              " (0.0027202604287165743,\n",
              "  'Ideally, the mechanism for generating examples produces all the known labeled keyphrases as candidates, though this is often not the case.'),\n",
              " (0.002688422575208197,\n",
              "  'Imagine a system, which automatically pulls together news articles on a given topic (from the web), and concisely represents the latest news as a summary.'),\n",
              " (0.0026751915892386296,\n",
              "  'Automatic summaries present information extracted from multiple sources algorithmically, without any editorial touch or subjective human intervention, thus making it completely unbiased.'),\n",
              " (0.0026711676923327184,\n",
              "  'Similarly, the Maximum-Marginal-Relevance procedure can also be seen as an instance of submodular optimization.'),\n",
              " (0.002655714312069181,\n",
              "  'This is not typically how people create summaries, so simply using journal abstracts or existing summaries is usually not sufficient.'),\n",
              " (0.0026489225630936526,\n",
              "  '[24] The name is reference to TL;DR − Internet slang for \"too long; didn\\'t read\".'),\n",
              " (0.0026443785098065257,\n",
              "  'For example, if we use only unigrams, bigrams, and trigrams, then we will never be able to extract a known keyphrase containing four words.'),\n",
              " (0.00263492698858897,\n",
              "  'Virtually any supervised learning algorithm could be used, such as decision trees, Naive Bayes, and rule induction.'),\n",
              " (0.002596077587229437,\n",
              "  '[5] A summary in this context is useful to show the most representative images of results in an image collection exploration system.'),\n",
              " (0.002578991656615946,\n",
              "  'The method used is called Cross-Sentence Information Subsumption (CSIS).'),\n",
              " (0.002572200459919713,\n",
              "  'Similarly, Bairi et al., 2015[21] show the utility of submodular functions for summarizing multi-document topic hierarchies.'),\n",
              " (0.0025614852548547984, 'The Turney paper used about 12 such features.'),\n",
              " (0.0025503865644423496,\n",
              "  'However, to keep the graph small, the authors decide to rank individual unigrams in a first step, and then include a second step that merges highly ranked adjacent unigrams to form multi-word phrases.'),\n",
              " (0.002541738494452969,\n",
              "  'The Facility Location function also naturally models coverage and diversity.'),\n",
              " (0.0025334122001233464,\n",
              "  \"Furthermore, training on a specific domain tends to customize the extraction process to that domain, so the resulting classifier is not necessarily portable, as some of Turney's results demonstrate.\"),\n",
              " (0.0025237452412003422,\n",
              "  'The genetic algorithm optimizes parameters for these heuristics with respect to performance on training documents with known key phrases.'),\n",
              " (0.00249565689080152,\n",
              "  'This makes intuitive sense and allows the algorithms to be applied to any arbitrary new text.'),\n",
              " (0.0024793188763521045,\n",
              "  'Resulting summary report allows individual users, such as professional information consumers, to quickly familiarize themselves with information contained in a large cluster of documents.'),\n",
              " (0.0024681540308640238,\n",
              "  'The system was based on a hybrid system using a naive Bayes classifier and statistical language models for modeling salience.'),\n",
              " (0.0024544968071758162,\n",
              "  'Term frequency–inverse document frequency had been used by 2016.'),\n",
              " (0.002422999463792411,\n",
              "  'The task remains the same in both cases—only the number of sentences to choose from has grown.'),\n",
              " (0.0024057109089475077,\n",
              "  ', The GRASSHOPPER algorithm\\n• None Miranda-Jiménez, Sabino, Gelbukh, Alexander, and Sidorov, Grigori (2013).'),\n",
              " (0.002357468400346817,\n",
              "  '(An absorbing random walk is like a standard random walk, except some states are now absorbing states that act as \"black holes\" that cause the walk to end abruptly at that state.)'),\n",
              " (0.0023076498856785406,\n",
              "  'We can determine the keyphrases by looking at binary classification decisions or probabilities returned from our learned model.'),\n",
              " (0.0023016598342473016,\n",
              "  'Keyphrase extractors are generally evaluated using precision and recall.'),\n",
              " (0.0022996875331916505,\n",
              "  'It essentially calculates n-gram overlaps between automatically generated summaries and previously-written human summaries.'),\n",
              " (0.002291649143051374,\n",
              "  'The technique chosen is to set a count T to be a user-specified fraction of the total number of vertices in the graph.'),\n",
              " (0.002273330185585376,\n",
              "  'A more principled way to estimate sentence importance is using random walks and eigenvector centrality.'),\n",
              " (0.0022635866000302904,\n",
              "  'TextRank is a general purpose graph-based ranking algorithm for NLP.'),\n",
              " (0.002258753279820048,\n",
              "  'The most common way is using the so-called ROUGE (Recall-Oriented Understudy for Gisting Evaluation) measure.'),\n",
              " (0.0022547197179968,\n",
              "  'Edges are created based on word co-occurrence in this application of TextRank.'),\n",
              " (0.0022501037959437847,\n",
              "  'This also has applications in consumer or personal videos, where one might want to skip the boring or repetitive actions.'),\n",
              " (0.002244908676493138,\n",
              "  \"Note that overlap metrics like this are unable to provide any feedback on a summary's coherence.\"),\n",
              " (0.0022432268437549085,\n",
              "  'Potentially, we could do something similar to the supervised methods and create a vertex for each unigram, bigram, trigram, etc.'),\n",
              " (0.0022101037042462543,\n",
              "  'The set cover function attempts to find a subset of objects which cover a given set of concepts.'),\n",
              " (0.0021960928308796313, 'One way to think about it is the following.'),\n",
              " (0.0021891409022957056, 'This is also called the core-set.'),\n",
              " (0.0021785941080770866,\n",
              "  'Moreover, several important combinatorial optimization problems occur as special instances of submodular optimization.'),\n",
              " (0.0021693549977785825,\n",
              "  'Some classifiers make a binary classification for a test example, while others assign a probability of being a keyphrase.'),\n",
              " (0.002154250312035539,\n",
              "  'This has a nice side effect of allowing us to produce keyphrases of arbitrary length.'),\n",
              " (0.002141915652718342,\n",
              "  'Then we learn a classifier that can discriminate between positive and negative examples as a function of the features.'),\n",
              " (0.002135918294670723, 'The algorithm is called GRASSHOPPER.'),\n",
              " (0.0021210977185147505,\n",
              "  'Depending on the different literature and the definition of key terms, words or phrases, keyword extraction is a highly related theme.'),\n",
              " (0.0020937137192310307,\n",
              "  'Improving diversity in ranking using absorbing random walks .'),\n",
              " (0.0020643769896053284, '• None Marcu, Daniel (2000).'),\n",
              " (0.0020643769896053284, '• None Alrehamy, Hassan (2017).'),\n",
              " (0.002051383653406451,\n",
              "  'The extractor follows a series of heuristics to identify keyphrases.'),\n",
              " (0.0020037701308501196, '[31]\\n• None Roxana, Angheluta (2002).'),\n",
              " (0.001997738111846233,\n",
              "  'It consists in selecting a representative set of images from a larger set of images.'),\n",
              " (0.001991958650264361,\n",
              "  'With different opinions being put together and outlined, every topic is described from multiple perspectives within a single document.'),\n",
              " (0.001975385248086116,\n",
              "  'Thus the algorithm is easily portable to new domains and languages.'),\n",
              " (0.001966456322236915,\n",
              "  \"• , Published in Proceeding RIAO'10 Adaptivity, Personalization and Fusion of Heterogeneous Information, CID Paris, France\\n• None Xiaojin, Zhu, Andrew Goldberg, Jurgen Van Gael, and David Andrzejewski (2007).\"),\n",
              " (0.0019593459763372007,\n",
              "  'This is the technique used by Turney with C4.5 decision trees.'),\n",
              " (0.001937758368493289,\n",
              "  'Similarly, in surveillance videos, one would want to extract important and suspicious activity, while ignoring all the boring and redundant frames captured.'),\n",
              " (0.001927812721471689,\n",
              "  'Note that ROUGE is similar to the BLEU measure for machine translation, but BLEU is precision- based, because translation systems favor accuracy.'),\n",
              " (0.0019253869699005395, 'This is an instance of set cover.'),\n",
              " (0.001923179065681402,\n",
              "  'Turney and others have used all possible unigrams, bigrams, and trigrams without intervening punctuation and after removing stopwords.'),\n",
              " (0.001886455647918998,\n",
              "  'For example, a simple greedy algorithm admits a constant factor guarantee.'),\n",
              " (0.0018815584494727357,\n",
              "  'We apply the same example-generation strategy to the test documents, then run each example through the learner.'),\n",
              " (0.001872174737513132,\n",
              "  'Essentially, it runs PageRank on a graph specially designed for a particular NLP task.'),\n",
              " (0.0018674372568110204, '• None Elena, Lloret and Manuel, Palomar (2009).'),\n",
              " (0.001844251621289982,\n",
              "  'Moreover, they all perform a quantitative evaluation with regard to different similarity metrics.'),\n",
              " (0.0018347457860551455,\n",
              "  'We then compute various features describing each example (e.g., does the phrase begin with an upper-case letter?).'),\n",
              " (0.0018136452022633328,\n",
              "  'Intrinsic evaluations have assessed mainly the coherence and informativeness of summaries.'),\n",
              " (0.001794654545518038,\n",
              "  'Here, content is extracted from the original data, but the extracted content is not modified in any way.'),\n",
              " (0.0017668859376132383,\n",
              "  'In short, the co-occurrence graph will contain densely connected regions for terms that appear often and in different contexts.'),\n",
              " (0.0017093621800598775,\n",
              "  'TextRank uses continuous similarity scores as weights.'),\n",
              " (0.0016827819015663085,\n",
              "  'It was found to be very useful by the reddit community which upvoted its summaries hundreds of thousands of times.'),\n",
              " (0.0016727402019664685,\n",
              "  'A high level of overlap should indicate a high level of shared concepts between the two summaries.'),\n",
              " (0.0016590066750196387,\n",
              "  'Note that the unigrams placed in the graph can be filtered by part of speech.'),\n",
              " (0.0016535684976582872,\n",
              "  'A random walk on this graph will have a stationary distribution that assigns large probabilities to the terms in the centers of the clusters.'),\n",
              " (0.0016519036422472354,\n",
              "  'This is similar to densely connected Web pages getting ranked highly by PageRank.'),\n",
              " (0.001645998544447669, 'A related application is summarizing news articles.'),\n",
              " (0.0016375065117614882, 'The task is the following.'),\n",
              " (0.0016341022536318379,\n",
              "  'Conceptual Structures for STEM Research and Education.'),\n",
              " (0.0016341022536318379,\n",
              "  ', Conceptual Structures for STEM Research and Education.'),\n",
              " (0.0016063613737436115,\n",
              "  'Unlike PageRank, the edges are typically undirected and can be weighted to reflect a degree of similarity.'),\n",
              " (0.0015881601371336169,\n",
              "  'Much effort has to be done in order to have corpus of texts and their corresponding summaries.'),\n",
              " (0.0015642955161109934, 'It approaches the problem from a different angle.'),\n",
              " (0.0014740519606878863,\n",
              "  'A post- processing step is then applied to merge adjacent instances of these T unigrams.'),\n",
              " (0.0014505787920382918,\n",
              "  'Then the top T vertices/unigrams are selected based on their stationary probabilities.'),\n",
              " (0.0014466067237761922,\n",
              "  'The first choice is exactly how to generate examples.'),\n",
              " (0.0014289750225753872, 'Thus, recall may suffer.'),\n",
              " (0.0013832019201663482,\n",
              "  'The methods are domain-independent and easily portable.'),\n",
              " (0.0012911073628596084,\n",
              "  'Evaluation techniques fall into intrinsic and extrinsic,[27] inter-textual and intra-textual.'),\n",
              " (0.001248995595391811,\n",
              "  'The vertices should correspond to what we want to rank.'),\n",
              " (0.0012405138836652358,\n",
              "  'The two measures can be combined in an F-score, which is the harmonic mean of the two (F = 2PR/(P + R) ).'),\n",
              " (0.001225466656850875,\n",
              "  'Thus, some linguistic knowledge comes into play in this step.'),\n",
              " (0.0011266272789234282,\n",
              "  'Anaphor resolution remains another problem yet to be fully solved.'),\n",
              " (0.0011183297519239896, 'This is a hard and expensive task.'),\n",
              " (0.0010949307821290749, 'Research increased significantly in 2015.'),\n",
              " (0.0010548859962903174,\n",
              "  'Hulth showed that you can get some improvement by selecting examples to be sequences of tokens that match certain patterns of part-of-speech tags.'),\n",
              " (0.0010371016551797005,\n",
              "  'If there are multiple references, the ROUGE-1 scores are averaged.'),\n",
              " (0.001036406764093707,\n",
              "  'Recall can be computed with respect to unigram, bigram, trigram, or 4-gram matching.'),\n",
              " (0.0010272111278272827, 'Advances in Intelligent Systems and Computing.'),\n",
              " (0.0010259788484647827,\n",
              "  'The authors found that adjectives and nouns were the best to include.'),\n",
              " (0.001012879238483508,\n",
              "  'In the following year it was surpassed by latent semantic analysis (LSA) combined with non-negative matrix factorization (NMF).'),\n",
              " (0.0010113667460945881,\n",
              "  'Other issues are those concerning coherence and coverage.'),\n",
              " (0.0009351035520408424,\n",
              "  'High-order n-gram ROUGE measures try to judge fluency to some degree.'),\n",
              " (0.0008967679373558773,\n",
              "  'The first publication in the area dates back to 1958 (Lun), starting with a statistical technique.'),\n",
              " (0.0008627790735715307, 'N is typically around 2–10.'),\n",
              " (0.0007011827760313917, 'SCU in the Pyramid Method).'),\n",
              " (0.0005827136249334498, 'Lecture Notes in Computer Science.'),\n",
              " (0.0005126452494873549, 'doi:10.1007/978-3-642-35786-2_18.'),\n",
              " (0.0005126452494873549, 'doi:10.1007/978-3-319-66939-7_19.'),\n",
              " (0.0005126452494873549, '245–253.'),\n",
              " (0.0005126452494873549, '222–235.')]"
            ]
          },
          "metadata": {
            "tags": []
          },
          "execution_count": 77
        }
      ]
    },
    {
      "cell_type": "code",
      "metadata": {
        "colab": {
          "base_uri": "https://localhost:8080/",
          "height": 1000
        },
        "id": "valF-A7xRTBE",
        "outputId": "08658bf5-ca10-48b3-d1e4-675155e254f8"
      },
      "source": [
        "visualize(article.title, original_sentences, best_sentences)"
      ],
      "execution_count": null,
      "outputs": [
        {
          "output_type": "display_data",
          "data": {
            "text/html": [
              "<h1>Summary - Automatic summarization - Wikipedia</h1>"
            ],
            "text/plain": [
              "<IPython.core.display.HTML object>"
            ]
          },
          "metadata": {
            "tags": []
          }
        },
        {
          "output_type": "display_data",
          "data": {
            "text/html": [
              "  <mark>Automatic summarization is the process of shortening a set of data computationally, to create a subset (a summary) that represents the most important or relevant information within the original content.</mark> In addition to text, images and videos can also be summarized. <mark>Text summarization finds the most informative sentences in a document;[1] image summarization finds the most representative images within an image collection[citation needed]; video summarization extracts the most important frames from the video content.</mark> <mark>[2]\n",
              "\n",
              "There are two general approaches to automatic summarization: extraction and abstraction.</mark> Here, content is extracted from the original data, but the extracted content is not modified in any way. <mark>Examples of extracted content include key-phrases that can be used to \"tag\" or index a text document, or key sentences (including headings) that collectively comprise an abstract, and representative images or video segments, as stated above.</mark> For text, extraction is analogous to the process of skimming, where the summary (if available), headings and subheadings, figures, the first and last paragraphs of a section, and optionally the first and last sentences in a paragraph are read before one chooses to read the entire document in detail. [3] Other examples of extraction that include key sequences of text in terms of clinical relevance (including patient/problem, intervention, and outcome). [4]\n",
              "\n",
              "This has been applied mainly for text. Abstractive methods build an internal semantic representation of the original content, and then use this representation to create a summary that is closer to what a human might express. Abstraction may transform the extracted content by paraphrasing sections of the source document, to condense a text more strongly than extraction. Such transformation, however, is computationally much more challenging than extraction, involving both natural language processing and often a deep understanding of the domain of the original text in cases where the original document relates to a special field of knowledge. <mark>\"Paraphrasing\" is even more difficult to apply to image and video, which is why most summarization systems are extractive.</mark> Approaches aimed at higher summarization quality rely on combined software and human effort. In Machine Aided Human Summarization, extractive techniques highlight candidate passages for inclusion (to which the human adds or removes text). In Human Aided Machine Summarization, a human post-processes software output, in the same way that one edits the output of automatic translation by Google Translate. <mark>There are broadly two types of extractive summarization tasks depending on what the summarization program focuses on.</mark> The first is generic summarization, which focuses on obtaining a generic summary or abstract of the collection (whether documents, or sets of images, or videos, news stories etc.). The second is query relevant summarization, sometimes called query-based summarization, which summarizes objects specific to a query. <mark>Summarization systems are able to create both query relevant text summaries and generic machine-generated summaries depending on what the user needs.</mark> <mark>An example of a summarization problem is document summarization, which attempts to automatically produce an abstract from a given document.</mark> Sometimes one might be interested in generating a summary from a single source document, while others can use multiple source documents (for example, a cluster of articles on the same topic). <mark>This problem is called multi-document summarization.</mark> A related application is summarizing news articles. Imagine a system, which automatically pulls together news articles on a given topic (from the web), and concisely represents the latest news as a summary. <mark>Image collection summarization is another application example of automatic summarization.</mark> It consists in selecting a representative set of images from a larger set of images. [5] A summary in this context is useful to show the most representative images of results in an image collection exploration system. Video summarization is a related domain, where the system automatically creates a trailer of a long video. This also has applications in consumer or personal videos, where one might want to skip the boring or repetitive actions. Similarly, in surveillance videos, one would want to extract important and suspicious activity, while ignoring all the boring and redundant frames captured. <mark>At a very high level, summarization algorithms try to find subsets of objects (like set of sentences, or a set of images), which cover information of the entire set.</mark> This is also called the core-set. These algorithms model notions like diversity, coverage, information and representativeness of the summary. Query based summarization techniques, additionally model for relevance of the summary with the query. <mark>Some techniques and algorithms which naturally model summarization problems are TextRank and PageRank, Submodular set function, Determinantal point process, maximal marginal relevance (MMR) etc.</mark> The task is the following. You are given a piece of text, such as a journal article, and you must produce a list of keywords or key[phrase]s that capture the primary topics discussed in the text. [6] In the case of research articles, many authors provide manually assigned keywords, but most text lacks pre-existing keyphrases. For example, news articles rarely have keyphrases attached, but it would be useful to be able to automatically do so for a number of applications discussed below. <mark>Consider the example text from a news article:\n",
              "\n",
              "A keyphrase extractor might select \"Army Corps of Engineers\", \"President Bush\", \"New Orleans\", and \"defective flood-control pumps\" as keyphrases.</mark> These are pulled directly from the text. <mark>In contrast, an abstractive keyphrase system would somehow internalize the content and generate keyphrases that do not appear in the text, but more closely resemble what a human might produce, such as \"political negligence\" or \"inadequate protection from floods\".</mark> Abstraction requires a deep understanding of the text, which makes it difficult for a computer system. Keyphrases have many applications. They can enable document browsing by providing a short summary, improve information retrieval (if documents have keyphrases assigned, a user could search by keyphrase to produce more reliable hits than a full-text search), and be employed in generating index entries for a large text corpus. Depending on the different literature and the definition of key terms, words or phrases, keyword extraction is a highly related theme. Beginning with the work of Turney,[7] many researchers have approached keyphrase extraction as a supervised machine learning problem. Given a document, we construct an example for each unigram, bigram, and trigram found in the text (though other text units are also possible, as discussed below). We then compute various features describing each example (e.g., does the phrase begin with an upper-case letter?). We assume there are known keyphrases available for a set of training documents. Using the known keyphrases, we can assign positive or negative labels to the examples. Then we learn a classifier that can discriminate between positive and negative examples as a function of the features. Some classifiers make a binary classification for a test example, while others assign a probability of being a keyphrase. For instance, in the above text, we might learn a rule that says phrases with initial capital letters are likely to be keyphrases. After training a learner, we can select keyphrases for test documents in the following manner. We apply the same example-generation strategy to the test documents, then run each example through the learner. We can determine the keyphrases by looking at binary classification decisions or probabilities returned from our learned model. If probabilities are given, a threshold is used to select the keyphrases. Keyphrase extractors are generally evaluated using precision and recall. Precision measures how many of the proposed keyphrases are actually correct. Recall measures how many of the true keyphrases your system proposed. The two measures can be combined in an F-score, which is the harmonic mean of the two (F = 2PR/(P + R) ). Matches between the proposed keyphrases and the known keyphrases can be checked after stemming or applying some other text normalization. Designing a supervised keyphrase extraction system involves deciding on several choices (some of these apply to unsupervised, too). The first choice is exactly how to generate examples. Turney and others have used all possible unigrams, bigrams, and trigrams without intervening punctuation and after removing stopwords. Hulth showed that you can get some improvement by selecting examples to be sequences of tokens that match certain patterns of part-of-speech tags. Ideally, the mechanism for generating examples produces all the known labeled keyphrases as candidates, though this is often not the case. For example, if we use only unigrams, bigrams, and trigrams, then we will never be able to extract a known keyphrase containing four words. Thus, recall may suffer. However, generating too many examples can also lead to low precision. We also need to create features that describe the examples and are informative enough to allow a learning algorithm to discriminate keyphrases from non- keyphrases. Typically features involve various term frequencies (how many times a phrase appears in the current text or in a larger corpus), the length of the example, relative position of the first occurrence, various boolean syntactic features (e.g., contains all caps), etc. The Turney paper used about 12 such features. Hulth uses a reduced set of features, which were found most successful in the KEA (Keyphrase Extraction Algorithm) work derived from Turney’s seminal paper. In the end, the system will need to return a list of keyphrases for a test document, so we need to have a way to limit the number. Ensemble methods (i.e., using votes from several classifiers) have been used to produce numeric scores that can be thresholded to provide a user-provided number of keyphrases. This is the technique used by Turney with C4.5 decision trees. Hulth used a single binary classifier so the learning algorithm implicitly determines the appropriate number. Once examples and features are created, we need a way to learn to predict keyphrases. Virtually any supervised learning algorithm could be used, such as decision trees, Naive Bayes, and rule induction. In the case of Turney's GenEx algorithm, a genetic algorithm is used to learn parameters for a domain-specific keyphrase extraction algorithm. The extractor follows a series of heuristics to identify keyphrases. The genetic algorithm optimizes parameters for these heuristics with respect to performance on training documents with known key phrases. Another keyphrase extraction algorithm is TextRank. While supervised methods have some nice properties, like being able to produce interpretable rules for what features characterize a keyphrase, they also require a large amount of training data. Many documents with known keyphrases are needed. Furthermore, training on a specific domain tends to customize the extraction process to that domain, so the resulting classifier is not necessarily portable, as some of Turney's results demonstrate. Unsupervised keyphrase extraction removes the need for training data. It approaches the problem from a different angle. <mark>Instead of trying to learn explicit features that characterize keyphrases, the TextRank algorithm[8] exploits the structure of the text itself to determine keyphrases that appear \"central\" to the text in the same way that PageRank selects important Web pages.</mark> Recall this is based on the notion of \"prestige\" or \"recommendation\" from social networks. In this way, TextRank does not rely on any previous training data at all, but rather can be run on any arbitrary piece of text, and it can produce output simply based on the text's intrinsic properties. Thus the algorithm is easily portable to new domains and languages. TextRank is a general purpose graph-based ranking algorithm for NLP. Essentially, it runs PageRank on a graph specially designed for a particular NLP task. <mark>For keyphrase extraction, it builds a graph using some set of text units as vertices.</mark> Edges are based on some measure of semantic or lexical similarity between the text unit vertices. Unlike PageRank, the edges are typically undirected and can be weighted to reflect a degree of similarity. Once the graph is constructed, it is used to form a stochastic matrix, combined with a damping factor (as in the \"random surfer model\"), and the ranking over vertices is obtained by finding the eigenvector corresponding to eigenvalue 1 (i.e., the stationary distribution of the random walk on the graph). The vertices should correspond to what we want to rank. Potentially, we could do something similar to the supervised methods and create a vertex for each unigram, bigram, trigram, etc. However, to keep the graph small, the authors decide to rank individual unigrams in a first step, and then include a second step that merges highly ranked adjacent unigrams to form multi-word phrases. This has a nice side effect of allowing us to produce keyphrases of arbitrary length. <mark>For example, if we rank unigrams and find that \"advanced\", \"natural\", \"language\", and \"processing\" all get high ranks, then we would look at the original text and see that these words appear consecutively and create a final keyphrase using all four together.</mark> Note that the unigrams placed in the graph can be filtered by part of speech. The authors found that adjectives and nouns were the best to include. Thus, some linguistic knowledge comes into play in this step. Edges are created based on word co-occurrence in this application of TextRank. Two vertices are connected by an edge if the unigrams appear within a window of size N in the original text. N is typically around 2–10. <mark>Thus, \"natural\" and \"language\" might be linked in a text about NLP.</mark> <mark>\"Natural\" and \"processing\" would also be linked because they would both appear in the same string of N words.</mark> <mark>These edges build on the notion of \"text cohesion\" and the idea that words that appear near each other are likely related in a meaningful way and \"recommend\" each other to the reader.</mark> Since this method simply ranks the individual vertices, we need a way to threshold or produce a limited number of keyphrases. The technique chosen is to set a count T to be a user-specified fraction of the total number of vertices in the graph. Then the top T vertices/unigrams are selected based on their stationary probabilities. A post- processing step is then applied to merge adjacent instances of these T unigrams. As a result, potentially more or less than T final keyphrases will be produced, but the number should be roughly proportional to the length of the original text. It is not initially clear why applying PageRank to a co-occurrence graph would produce useful keyphrases. One way to think about it is the following. A word that appears multiple times throughout a text may have many different co-occurring neighbors. <mark>For example, in a text about machine learning, the unigram \"learning\" might co-occur with \"machine\", \"supervised\", \"un-supervised\", and \"semi-supervised\" in four different sentences.</mark> <mark>Thus, the \"learning\" vertex would be a central \"hub\" that connects to these other modifying words.</mark> Running PageRank/TextRank on the graph is likely to rank \"learning\" highly. <mark>Similarly, if the text contains the phrase \"supervised classification\", then there would be an edge between \"supervised\" and \"classification\".</mark> <mark>If \"classification\" appears several other places and thus has many neighbors, its importance would contribute to the importance of \"supervised\".</mark> <mark>If it ends up with a high rank, it will be selected as one of the top T unigrams, along with \"learning\" and probably \"classification\".</mark> <mark>In the final post-processing step, we would then end up with keyphrases \"supervised learning\" and \"supervised classification\".</mark> In short, the co-occurrence graph will contain densely connected regions for terms that appear often and in different contexts. A random walk on this graph will have a stationary distribution that assigns large probabilities to the terms in the centers of the clusters. This is similar to densely connected Web pages getting ranked highly by PageRank. <mark>This approach has also been used in document summarization, considered below.</mark> <mark>Like keyphrase extraction, document summarization aims to identify the essence of a text.</mark> The only real difference is that now we are dealing with larger text units—whole sentences instead of words and phrases. <mark>Before getting into the details of some summarization methods, we will mention how summarization systems are typically evaluated.</mark> The most common way is using the so-called ROUGE (Recall-Oriented Understudy for Gisting Evaluation) measure. This is a recall-based measure that determines how well a system-generated summary covers the content present in one or more human-generated model summaries known as references. It is recall-based to encourage systems to include all the important topics in the text. Recall can be computed with respect to unigram, bigram, trigram, or 4-gram matching. For example, ROUGE-1 is computed as division of count of unigrams in reference that appear in system and count of unigrams in reference summary. If there are multiple references, the ROUGE-1 scores are averaged. Because ROUGE is based only on content overlap, it can determine if the same general concepts are discussed between an automatic summary and a reference summary, but it cannot determine if the result is coherent or the sentences flow together in a sensible manner. High-order n-gram ROUGE measures try to judge fluency to some degree. Note that ROUGE is similar to the BLEU measure for machine translation, but BLEU is precision- based, because translation systems favor accuracy. <mark>A promising line in document summarization is adaptive document/text summarization.</mark> [9] The idea of adaptive summarization involves preliminary recognition of document/text genre and subsequent application of summarization algorithms optimized for this genre. First summarizes that perform adaptive summarization have been created. <mark>[10]\n",
              "\n",
              "Supervised text summarization is very much like supervised keyphrase extraction.</mark> Basically, if you have a collection of documents and human-generated summaries for them, you can learn features of sentences that make them good candidates for inclusion in the summary. Features might include the position in the document (i.e., the first few sentences are probably important), the number of words in the sentence, etc. <mark>The main difficulty in supervised extractive summarization is that the known summaries must be manually created by extracting sentences so the sentences in an original training document can be labeled as \"in summary\" or \"not in summary\".</mark> This is not typically how people create summaries, so simply using journal abstracts or existing summaries is usually not sufficient. <mark>The sentences in these summaries do not necessarily match up with sentences in the original text, so it would be difficult to assign labels to examples for training.</mark> Note, however, that these natural summaries can still be used for evaluation purposes, since ROUGE-1 only cares about unigrams. <mark>During the DUC 2001 and 2002 evaluation workshops, TNO developed a sentence extraction system for multi-document summarization in the news domain.</mark> The system was based on a hybrid system using a naive Bayes classifier and statistical language models for modeling salience. Although the system exhibited good results, the researchers wanted to explore the effectiveness of a maximum entropy (ME) classifier for the meeting summarization task, as ME is known to be robust against feature dependencies. Maximum entropy has also been applied successfully for summarization in the broadcast news domain. <mark>The unsupervised approach to summarization is also quite similar in spirit to unsupervised keyphrase extraction and gets around the issue of costly training data.</mark> <mark>Some unsupervised summarization approaches are based on finding a \"centroid\" sentence, which is the mean word vector of all the sentences in the document.</mark> Then the sentences can be ranked with regard to their similarity to this centroid sentence. A more principled way to estimate sentence importance is using random walks and eigenvector centrality. <mark>LexRank[11] is an algorithm essentially identical to TextRank, and both use this approach for document summarization.</mark> <mark>The two methods were developed by different groups at the same time, and LexRank simply focused on summarization, but could just as easily be used for keyphrase extraction or any other NLP ranking task.</mark> In both LexRank and TextRank, a graph is constructed by creating a vertex for each sentence in the document. The edges between sentences are based on some form of semantic similarity or content overlap. While LexRank uses cosine similarity of TF-IDF vectors, TextRank uses a very similar measure based on the number of words two sentences have in common (normalized by the sentences' lengths). The LexRank paper explored using unweighted edges after applying a threshold to the cosine values, but also experimented with using edges with weights equal to the similarity score. TextRank uses continuous similarity scores as weights. In both algorithms, the sentences are ranked by applying PageRank to the resulting graph. A summary is formed by combining the top ranking sentences, using a threshold or length cutoff to limit the size of the summary. <mark>It is worth noting that TextRank was applied to summarization exactly as described here, while LexRank was used as part of a larger summarization system (MEAD) that combines the LexRank score (stationary probability) with other features like sentence position and length using a linear combination with either user-specified or automatically tuned weights.</mark> In this case, some training documents might be needed, though the TextRank results show the additional features are not absolutely necessary. <mark>Another important distinction is that TextRank was used for single document summarization, while LexRank has been applied to multi-document summarization.</mark> The task remains the same in both cases—only the number of sentences to choose from has grown. However, when summarizing multiple documents, there is a greater risk of selecting duplicate or highly redundant sentences to place in the same summary. Imagine you have a cluster of news articles on a particular event, and you want to produce one summary. Each article is likely to have many similar sentences, and you would only want to include distinct ideas in the summary. To address this issue, LexRank applies a heuristic post-processing step that builds up a summary by adding sentences in rank order, but discards any sentences that are too similar to ones already placed in the summary. The method used is called Cross-Sentence Information Subsumption (CSIS). <mark>These methods work based on the idea that sentences \"recommend\" other similar sentences to the reader.</mark> Thus, if one sentence is very similar to many others, it will likely be a sentence of great importance. <mark>The importance of this sentence also stems from the importance of the sentences \"recommending\" it.</mark> Thus, to get ranked highly and placed in a summary, a sentence must be similar to many sentences that are in turn also similar to many other sentences. This makes intuitive sense and allows the algorithms to be applied to any arbitrary new text. The methods are domain-independent and easily portable. One could imagine the features indicating important sentences in the news domain might vary considerably from the biomedical domain. However, the unsupervised \"recommendation\"-based approach applies to any domain. <mark>Multi-document summarization is an automatic procedure aimed at extraction of information from multiple texts written about the same topic.</mark> Resulting summary report allows individual users, such as professional information consumers, to quickly familiarize themselves with information contained in a large cluster of documents. In such a way, multi-document summarization systems are complementing the news aggregators performing the next step down the road of coping with information overload. <mark>Multi-document summarization may also be done in response to a question.</mark> [12] [4]\n",
              "\n",
              "Multi-document summarization creates information reports that are both concise and comprehensive. With different opinions being put together and outlined, every topic is described from multiple perspectives within a single document. While the goal of a brief summary is to simplify information search and cut the time by pointing to the most relevant source documents, comprehensive multi-document summary should itself contain the required information, hence limiting the need for accessing original files to cases when refinement is required. Automatic summaries present information extracted from multiple sources algorithmically, without any editorial touch or subjective human intervention, thus making it completely unbiased. [dubious – discuss]\n",
              "\n",
              "Multi-document extractive summarization faces a problem of potential redundancy. <mark>Ideally, we would like to extract sentences that are both \"central\" (i.e., contain the main ideas) and \"diverse\" (i.e., they differ from one another).</mark> LexRank deals with diversity as a heuristic final stage using CSIS, and other systems have used similar methods, such as Maximal Marginal Relevance (MMR),[13] in trying to eliminate redundancy in information retrieval results. <mark>There is a general purpose graph-based ranking algorithm like Page/Lex/TextRank that handles both \"centrality\" and \"diversity\" in a unified mathematical framework based on absorbing Markov chain random walks.</mark> (An absorbing random walk is like a standard random walk, except some states are now absorbing states that act as \"black holes\" that cause the walk to end abruptly at that state.) The algorithm is called GRASSHOPPER. [14] In addition to explicitly promoting diversity during the ranking process, GRASSHOPPER incorporates a prior ranking (based on sentence position in the case of summarization). <mark>The state of the art results for multi-document summarization, however, are obtained using mixtures of submodular functions.</mark> These methods have achieved the state of the art results for Document Summarization Corpora, DUC 04 - 07. [15] Similar results were also achieved with the use of determinantal point processes (which are a special case of submodular functions) for DUC-04. [16]\n",
              "\n",
              "A new method for multi-lingual multi-document summarization that avoids redundancy works by simplifying and generating ideograms that represent the meaning of each sentence in each document and then evaluates similarity \"qualitatively\" by comparing the shape and position of said ideograms has recently been developed. This tool does not use word frequency, does not need training or preprocessing of any kind and works by generating ideograms that represent the meaning of each sentence and then summarizes using two user-supplied parameters: equivalence (when are two sentences to be considered equivalent) and relevance (how long is the desired summary). The idea of a submodular set function has recently emerged as a powerful modeling tool for various summarization problems. Submodular functions naturally model notions of coverage, information, representation and diversity. Moreover, several important combinatorial optimization problems occur as special instances of submodular optimization. For example, the set cover problem is a special case of submodular optimization, since the set cover function is submodular. The set cover function attempts to find a subset of objects which cover a given set of concepts. <mark>For example, in document summarization, one would like the summary to cover all important and relevant concepts in the document.</mark> This is an instance of set cover. Similarly, the facility location problem is a special case of submodular functions. The Facility Location function also naturally models coverage and diversity. Another example of a submodular optimization problem is using a determinantal point process to model diversity. Similarly, the Maximum-Marginal-Relevance procedure can also be seen as an instance of submodular optimization. All these important models encouraging coverage, diversity and information are all submodular. Moreover, submodular functions can be efficiently combined together, and the resulting function is still submodular. Hence, one could combine one submodular function which models diversity, another one which models coverage and use human supervision to learn a right model of a submodular function for the problem. <mark>While submodular functions are fitting problems for summarization, they also admit very efficient algorithms for optimization.</mark> For example, a simple greedy algorithm admits a constant factor guarantee. [17] Moreover, the greedy algorithm is extremely simple to implement and can scale to large datasets, which is very important for summarization problems. <mark>Submodular functions have achieved state-of-the-art for almost all summarization problems.</mark> For example, work by Lin and Bilmes, 2012[18] shows that submodular functions achieve the best results to date on DUC-04, DUC-05, DUC-06 and DUC-07 systems for document summarization. <mark>Similarly, work by Lin and Bilmes, 2011,[19] shows that many existing systems for automatic summarization are instances of submodular functions.</mark> This was a breakthrough result establishing submodular functions as the right models for summarization problems. <mark>[citation needed]\n",
              "\n",
              "Submodular Functions have also been used for other summarization tasks.</mark> Tschiatschek et al., 2014 show[20] that mixtures of submodular functions achieve state-of-the-art results for image collection summarization. Similarly, Bairi et al., 2015[21] show the utility of submodular functions for summarizing multi-document topic hierarchies. Submodular Functions have also successfully been used for summarizing machine learning datasets. [22]\n",
              "• The Reddit bot \"autotldr\",[23] created in 2011 summarizes news articles in the comment-section of reddit posts. It was found to be very useful by the reddit community which upvoted its summaries hundreds of thousands of times. [24] The name is reference to TL;DR − Internet slang for \"too long; didn't read\". [25][26]\n",
              "\n",
              "The most common way to evaluate the informativeness of automatic summaries is to compare them with human-made model summaries. Evaluation techniques fall into intrinsic and extrinsic,[27] inter-textual and intra-textual. <mark>[28]\n",
              "\n",
              "An intrinsic evaluation tests the summarization system in and of itself while an extrinsic evaluation tests the summarization based on how it affects the completion of some other task.</mark> Intrinsic evaluations have assessed mainly the coherence and informativeness of summaries. Extrinsic evaluations, on the other hand, have tested the impact of summarization on tasks like relevance assessment, reading comprehension, etc. <mark>Intra-textual methods assess the output of a specific summarization system, and the inter-textual ones focus on contrastive analysis of outputs of several summarization systems.</mark> Human judgement often has wide variance on what is considered a \"good\" summary, which means that making the evaluation process automatic is particularly difficult. Manual evaluation can be used, but this is both time and labor-intensive as it requires humans to read not only the summaries but also the source documents. Other issues are those concerning coherence and coverage. One of the metrics used in NIST's annual Document Understanding Conferences, in which research groups submit their systems for both summarization and translation tasks, is the ROUGE metric (Recall-Oriented Understudy for Gisting Evaluation [2]). It essentially calculates n-gram overlaps between automatically generated summaries and previously-written human summaries. A high level of overlap should indicate a high level of shared concepts between the two summaries. Note that overlap metrics like this are unable to provide any feedback on a summary's coherence. Anaphor resolution remains another problem yet to be fully solved. Similarly, for image summarization, Tschiatschek et al., developed a Visual-ROUGE score which judges the performance of algorithms for image summarization. <mark>[29]\n",
              "\n",
              "Domain independent summarization techniques generally apply sets of general features which can be used to identify information-rich text segments.</mark> Recent research focus has drifted to domain-specific summarization techniques that utilize the available knowledge specific to the domain of text. For example, automatic summarization research on medical text generally attempts to utilize the various sources of codified medical knowledge and ontologies. [30]\n",
              "\n",
              "The main drawback of the evaluation systems existing so far is that we need at least one reference summary, and for some methods more than one, to be able to compare automatic summaries with models. This is a hard and expensive task. Much effort has to be done in order to have corpus of texts and their corresponding summaries. Furthermore, for some methods, not only do we need to have human-made summaries available for comparison, but also manual annotation has to be performed in some of them (e.g. SCU in the Pyramid Method). In any case, what the evaluation methods need as an input, is a set of summaries to serve as gold standards and a set of automatic summaries. Moreover, they all perform a quantitative evaluation with regard to different similarity metrics. The first publication in the area dates back to 1958 (Lun), starting with a statistical technique. Research increased significantly in 2015. Term frequency–inverse document frequency had been used by 2016. <mark>Pattern-based summarization was the most powerful option for multi-document summarization found by 2016.</mark> In the following year it was surpassed by latent semantic analysis (LSA) combined with non-negative matrix factorization (NMF). Although they did not replace other approaches and are often combined with them, by 2019 machine learning methods dominated the extractive summarization of single documents, which was considered to be nearing maturity. By 2020 the field was still very active and research is shifting towards abstractive summation and real-time summarization. [31]\n",
              "• None Roxana, Angheluta (2002). <mark>The Use of Topic Segmentation for Automatic Summarization.</mark> • None Elena, Lloret and Manuel, Palomar (2009). Challenging Issues of Automatic Summarization: Relevance Detection and Quality-based Evaluation. • None Alrehamy, Hassan (2017). <mark>\"SemCluster: Unsupervised Automatic Keyphrase Extraction Using Affinity Propagation\".</mark> Automatic Keyphrases Extraction. Advances in Intelligent Systems and Computing. 650. pp. 222–235. doi:10.1007/978-3-319-66939-7_19. ISBN . • None Marcu, Daniel (2000). The Theory and Practice of Discourse Parsing and Summarization. ISBN . • , Published in Proceeding RIAO'10 Adaptivity, Personalization and Fusion of Heterogeneous Information, CID Paris, France\n",
              "• None Xiaojin, Zhu, Andrew Goldberg, Jurgen Van Gael, and David Andrzejewski (2007). Improving diversity in ranking using absorbing random walks . , The GRASSHOPPER algorithm\n",
              "• None Miranda-Jiménez, Sabino, Gelbukh, Alexander, and Sidorov, Grigori (2013). <mark>\"Summarizing Conceptual Graphs for Automatic Summarization Task\".</mark> Conceptual Structures for STEM Research and Education. Lecture Notes in Computer Science. 7735. pp. 245–253. doi:10.1007/978-3-642-35786-2_18. ISBN . , Conceptual Structures for STEM Research and Education. "
            ],
            "text/plain": [
              "<IPython.core.display.HTML object>"
            ]
          },
          "metadata": {
            "tags": []
          }
        }
      ]
    }
  ]
}